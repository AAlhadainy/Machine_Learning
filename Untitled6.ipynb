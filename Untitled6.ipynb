{
 "cells": [
  {
   "cell_type": "code",
   "execution_count": 71,
   "id": "35e881f4",
   "metadata": {},
   "outputs": [],
   "source": [
    "%matplotlib inline\n",
    "import numpy as np\n",
    "import torch\n",
    "import pandas as pd\n",
    "import matplotlib.pyplot as plt\n",
    "import seaborn as sns\n",
    "import time\n",
    "import torch.optim as optim\n",
    "from sklearn import metrics\n",
    "from sklearn.preprocessing import StandardScaler, MinMaxScaler\n",
    "from sklearn.linear_model import LogisticRegression\n",
    "from sklearn.metrics import mean_squared_error\n",
    "torch.set_printoptions(edgeitems=4, linewidth=75)\n",
    "import warnings\n",
    "warnings.filterwarnings('ignore')"
   ]
  },
  {
   "cell_type": "code",
   "execution_count": 72,
   "id": "84802205",
   "metadata": {},
   "outputs": [],
   "source": [
    "t_c = [0.5,  14.0, 15.0, 28.0, 11.0,  8.0,  3.0, -4.0,  6.0, 13.0, 21.0]\n",
    "t_u = [35.7, 55.9, 58.2, 81.9, 56.3, 48.9, 33.9, 21.8, 48.4, 60.4, 68.4]\n",
    "t_c = torch.tensor(t_c)\n",
    "t_u = torch.tensor(t_u)"
   ]
  },
  {
   "cell_type": "code",
   "execution_count": 73,
   "id": "8b02718a",
   "metadata": {},
   "outputs": [],
   "source": [
    "def model(t_u, w1, w2, b):\n",
    "    return w2 * t_u ** 2 + w1 * t_u + b"
   ]
  },
  {
   "cell_type": "code",
   "execution_count": 74,
   "id": "9cb7e1d6",
   "metadata": {},
   "outputs": [],
   "source": [
    "def loss_fn(t_p, t_c):\n",
    "    squared_diffs = (t_p - t_c)**2\n",
    "    return squared_diffs.mean()"
   ]
  },
  {
   "cell_type": "code",
   "execution_count": 75,
   "id": "17b84399",
   "metadata": {},
   "outputs": [
    {
     "data": {
      "text/plain": [
       "tensor([1310.1901, 3180.7100, 3445.4399, 6789.5103, 3225.9900, 2440.1101,\n",
       "        1183.1101,  497.0399, 2390.9600, 3708.5601, 4746.9600])"
      ]
     },
     "execution_count": 75,
     "metadata": {},
     "output_type": "execute_result"
    }
   ],
   "source": [
    "w1 = torch.ones(())\n",
    "w2 = torch.ones(())\n",
    "b = torch.zeros(())\n",
    "\n",
    "t_p = model(t_u, w1, w2, b)\n",
    "t_p"
   ]
  },
  {
   "cell_type": "code",
   "execution_count": 76,
   "id": "82db451f",
   "metadata": {},
   "outputs": [
    {
     "data": {
      "text/plain": [
       "tensor(11709471.)"
      ]
     },
     "execution_count": 76,
     "metadata": {},
     "output_type": "execute_result"
    }
   ],
   "source": [
    "loss = loss_fn(t_p, t_c)\n",
    "loss"
   ]
  },
  {
   "cell_type": "code",
   "execution_count": 77,
   "id": "86341697",
   "metadata": {},
   "outputs": [
    {
     "name": "stdout",
     "output_type": "stream",
     "text": [
      "shapes: x: torch.Size([]), y: torch.Size([4, 1])\n",
      "        z: torch.Size([1, 4]), a: torch.Size([3, 1, 1])\n",
      "x * y: torch.Size([4, 1])\n",
      "y * z: torch.Size([4, 4])\n",
      "y * z * a: torch.Size([3, 4, 4])\n"
     ]
    }
   ],
   "source": [
    "x = torch.ones(())\n",
    "y = torch.ones(4,1)\n",
    "z = torch.ones(1,4)\n",
    "a = torch.ones(3, 1, 1)\n",
    "print(f\"shapes: x: {x.shape}, y: {y.shape}\")\n",
    "print(f\"        z: {z.shape}, a: {a.shape}\")\n",
    "print(\"x * y:\", (x * y).shape)\n",
    "print(\"y * z:\", (y * z).shape)\n",
    "print(\"y * z * a:\", (y * z * a).shape)"
   ]
  },
  {
   "cell_type": "code",
   "execution_count": 78,
   "id": "bbbaa4df",
   "metadata": {
    "scrolled": true
   },
   "outputs": [],
   "source": [
    "delta = 0.1\n",
    "\n",
    "loss_rate_of_change_w = \\\n",
    "    (loss_fn(model(t_u, w1 + delta, w2 + delta, b), t_c) - \n",
    "     loss_fn(model(t_u, w1 - delta, w2 - delta, b), t_c)) / (2.0 * delta)"
   ]
  },
  {
   "cell_type": "code",
   "execution_count": 79,
   "id": "1453f9cf",
   "metadata": {},
   "outputs": [],
   "source": [
    "learning_rate = 1e-2\n",
    "\n",
    "w = w - learning_rate * loss_rate_of_change_w"
   ]
  },
  {
   "cell_type": "code",
   "execution_count": 80,
   "id": "28be22ba",
   "metadata": {},
   "outputs": [],
   "source": [
    "loss_rate_of_change_b = \\\n",
    "    (loss_fn(model(t_u, w1, w2, b + delta), t_c) - \n",
    "     loss_fn(model(t_u, w1, w2, b - delta), t_c)) / (2.0 * delta)\n",
    "\n",
    "b = b - learning_rate * loss_rate_of_change_b"
   ]
  },
  {
   "cell_type": "code",
   "execution_count": 81,
   "id": "7aee7263",
   "metadata": {},
   "outputs": [],
   "source": [
    "def dloss_fn(t_p, t_c):\n",
    "    dsq_diffs = 2 * (t_p - t_c) / t_p.size(0)  # <1>\n",
    "    return dsq_diffs"
   ]
  },
  {
   "cell_type": "code",
   "execution_count": 82,
   "id": "4145bc85",
   "metadata": {},
   "outputs": [],
   "source": [
    "def dmodel_dw(t_u, w, b):\n",
    "    return t_u"
   ]
  },
  {
   "cell_type": "code",
   "execution_count": 83,
   "id": "6c1344af",
   "metadata": {},
   "outputs": [],
   "source": [
    "def dmodel_db(t_u, w, b):\n",
    "    return 1.0"
   ]
  },
  {
   "cell_type": "code",
   "execution_count": 84,
   "id": "22ed29cd",
   "metadata": {},
   "outputs": [],
   "source": [
    "def grad_fn(t_u, t_c, t_p, w, b):\n",
    "    dloss_dtp = dloss_fn(t_p, t_c)\n",
    "    dloss_dw = dloss_dtp * dmodel_dw(t_u, w, b)\n",
    "    dloss_db = dloss_dtp * dmodel_db(t_u, w, b)\n",
    "    return torch.stack([dloss_dw.sum(), dloss_db.sum()])"
   ]
  },
  {
   "cell_type": "code",
   "execution_count": 85,
   "id": "ad9ec58b",
   "metadata": {},
   "outputs": [],
   "source": [
    "def training_loop(n_epochs, learning_rate, params, t_u, t_c):\n",
    "    for epoch in range(1, n_epochs + 1):\n",
    "        w, b = params\n",
    "\n",
    "        t_p = model(t_u, w, b)  # <1>\n",
    "        loss = loss_fn(t_p, t_c)\n",
    "        grad = grad_fn(t_u, t_c, t_p, w, b)  # <2>\n",
    "\n",
    "        params = params - learning_rate * grad\n",
    "\n",
    "        print('Epoch %d, Loss %f' % (epoch, float(loss))) # <3>\n",
    "            \n",
    "    return params"
   ]
  },
  {
   "cell_type": "code",
   "execution_count": 86,
   "id": "7de01155",
   "metadata": {},
   "outputs": [],
   "source": [
    "def training_loop(n_epochs, learning_rate, params, t_u, t_c,\n",
    "                  print_params=True):\n",
    "    for epoch in range(1, n_epochs + 1):\n",
    "        w, b = params\n",
    "\n",
    "        t_p = model(t_u, w1, w2, b)  # <1>\n",
    "        loss = loss_fn(t_p, t_c)\n",
    "        grad = grad_fn(t_u, t_c, t_p, w, b)  # <2>\n",
    "\n",
    "        params = params - learning_rate * grad\n",
    "\n",
    "        if epoch in {500, 1000, 1500, 2000, 2500, 3000, 3500, 4000, 4500, 5000}:  # <3>\n",
    "            print('Epoch %d, Loss %f' % (epoch, float(loss)))\n",
    "            if print_params:\n",
    "                print('    Params:', params)\n",
    "                print('    Grad:  ', grad)\n",
    "        if epoch in {4, 12, 101}:\n",
    "            print('...')\n",
    "\n",
    "        if not torch.isfinite(loss).all():\n",
    "            break  # <3>\n",
    "            \n",
    "    return params"
   ]
  },
  {
   "cell_type": "code",
   "execution_count": 87,
   "id": "0d104de4",
   "metadata": {},
   "outputs": [
    {
     "name": "stdout",
     "output_type": "stream",
     "text": [
      "...\n",
      "...\n",
      "...\n",
      "Epoch 500, Loss 2816562.500000\n",
      "    Params: tensor([-2797720.7500,    -2982.0977])\n",
      "    Grad:   tensor([5.2865e+04, 1.2207e-03])\n",
      "Epoch 1000, Loss 2816562.500000\n",
      "    Params: tensor([-5.4410e+06, -2.9821e+03])\n",
      "    Grad:   tensor([5.2865e+04, 1.2207e-03])\n",
      "Epoch 1500, Loss 2816562.500000\n",
      "    Params: tensor([-8.0842e+06, -2.9821e+03])\n",
      "    Grad:   tensor([5.2865e+04, 1.2207e-03])\n",
      "Epoch 2000, Loss 2816562.500000\n",
      "    Params: tensor([-1.0727e+07, -2.9821e+03])\n",
      "    Grad:   tensor([5.2865e+04, 1.2207e-03])\n",
      "Epoch 2500, Loss 2816562.500000\n",
      "    Params: tensor([-1.3370e+07, -2.9821e+03])\n",
      "    Grad:   tensor([5.2865e+04, 1.2207e-03])\n",
      "Epoch 3000, Loss 2816562.500000\n",
      "    Params: tensor([-1.6013e+07, -2.9821e+03])\n",
      "    Grad:   tensor([5.2865e+04, 1.2207e-03])\n",
      "Epoch 3500, Loss 2816562.500000\n",
      "    Params: tensor([-1.8656e+07, -2.9821e+03])\n",
      "    Grad:   tensor([5.2865e+04, 1.2207e-03])\n",
      "Epoch 4000, Loss 2816562.500000\n",
      "    Params: tensor([-2.1299e+07, -2.9821e+03])\n",
      "    Grad:   tensor([5.2865e+04, 1.2207e-03])\n",
      "Epoch 4500, Loss 2816562.500000\n",
      "    Params: tensor([-2.3942e+07, -2.9821e+03])\n",
      "    Grad:   tensor([5.2865e+04, 1.2207e-03])\n",
      "Epoch 5000, Loss 2816562.500000\n",
      "    Params: tensor([-2.6585e+07, -2.9821e+03])\n",
      "    Grad:   tensor([5.2865e+04, 1.2207e-03])\n"
     ]
    },
    {
     "data": {
      "text/plain": [
       "tensor([-2.6585e+07, -2.9821e+03])"
      ]
     },
     "execution_count": 87,
     "metadata": {},
     "output_type": "execute_result"
    }
   ],
   "source": [
    "training_loop(\n",
    "    n_epochs = 5000, \n",
    "    learning_rate = 1e-1, \n",
    "    params = torch.tensor([1.0, 0.0]), \n",
    "    t_u = t_u, \n",
    "    t_c = t_c)"
   ]
  },
  {
   "cell_type": "code",
   "execution_count": 88,
   "id": "4a50840e",
   "metadata": {},
   "outputs": [
    {
     "name": "stdout",
     "output_type": "stream",
     "text": [
      "...\n",
      "...\n",
      "...\n",
      "Epoch 500, Loss 2816562.500000\n",
      "    Params: tensor([-418789.8438,   -2981.9761])\n",
      "    Grad:   tensor([5.2878e+04, 2.4921e-01])\n",
      "Epoch 1000, Loss 2816562.500000\n",
      "    Params: tensor([-683113.3125,   -2982.0923])\n",
      "    Grad:   tensor([5.2865e+04, 1.1963e-02])\n",
      "Epoch 1500, Loss 2816562.500000\n",
      "    Params: tensor([-947425.8125,   -2982.0923])\n",
      "    Grad:   tensor([5.2865e+04, 1.1963e-02])\n",
      "Epoch 2000, Loss 2816562.500000\n",
      "    Params: tensor([-1211738.3750,    -2982.0923])\n",
      "    Grad:   tensor([5.2865e+04, 1.1963e-02])\n",
      "Epoch 2500, Loss 2816562.500000\n",
      "    Params: tensor([-1476050.8750,    -2982.0923])\n",
      "    Grad:   tensor([5.2865e+04, 1.1963e-02])\n",
      "Epoch 3000, Loss 2816562.500000\n",
      "    Params: tensor([-1740363.3750,    -2982.0923])\n",
      "    Grad:   tensor([5.2865e+04, 1.1963e-02])\n",
      "Epoch 3500, Loss 2816562.500000\n",
      "    Params: tensor([-2004675.8750,    -2982.0923])\n",
      "    Grad:   tensor([5.2865e+04, 1.1963e-02])\n",
      "Epoch 4000, Loss 2816562.500000\n",
      "    Params: tensor([-2269029.0000,    -2982.0923])\n",
      "    Grad:   tensor([5.2865e+04, 1.1963e-02])\n",
      "Epoch 4500, Loss 2816562.500000\n",
      "    Params: tensor([-2533404.0000,    -2982.0923])\n",
      "    Grad:   tensor([5.2865e+04, 1.1963e-02])\n",
      "Epoch 5000, Loss 2816562.500000\n",
      "    Params: tensor([-2797779.0000,    -2982.0923])\n",
      "    Grad:   tensor([5.2865e+04, 1.1963e-02])\n"
     ]
    },
    {
     "data": {
      "text/plain": [
       "tensor([-2797779.0000,    -2982.0923])"
      ]
     },
     "execution_count": 88,
     "metadata": {},
     "output_type": "execute_result"
    }
   ],
   "source": [
    "training_loop(\n",
    "    n_epochs = 5000, \n",
    "    learning_rate = 1e-2, \n",
    "    params = torch.tensor([1.0, 0.0]), \n",
    "    t_u = t_u, \n",
    "    t_c = t_c)"
   ]
  },
  {
   "cell_type": "code",
   "execution_count": 89,
   "id": "a8822c76",
   "metadata": {},
   "outputs": [
    {
     "name": "stdout",
     "output_type": "stream",
     "text": [
      "...\n",
      "...\n",
      "...\n",
      "Epoch 500, Loss 4022498.500000\n",
      "    Params: tensor([-124133.6406,   -1886.1434])\n",
      "    Grad:   tensor([166633.3125,   2196.3020])\n",
      "Epoch 1000, Loss 2979440.250000\n",
      "    Params: tensor([-186472.8750,   -2579.3237])\n",
      "    Grad:   tensor([94675.9375,   807.1632])\n",
      "Epoch 1500, Loss 2838561.750000\n",
      "    Params: tensor([-226101.4531,   -2834.0730])\n",
      "    Grad:   tensor([68231.0234,   296.6437])\n",
      "Epoch 2000, Loss 2819533.750000\n",
      "    Params: tensor([-257383.5156,   -2927.7009])\n",
      "    Grad:   tensor([58511.7500,   109.0129])\n",
      "Epoch 2500, Loss 2816963.750000\n",
      "    Params: tensor([-285598.0938,   -2962.1055])\n",
      "    Grad:   tensor([5.4940e+04, 4.0066e+01])\n",
      "Epoch 3000, Loss 2816617.000000\n",
      "    Params: tensor([-312685.5000,   -2974.7510])\n",
      "    Grad:   tensor([5.3628e+04, 1.4724e+01])\n",
      "Epoch 3500, Loss 2816570.000000\n",
      "    Params: tensor([-339358.7812,   -2979.3972])\n",
      "    Grad:   tensor([5.3145e+04, 5.4128e+00])\n",
      "Epoch 4000, Loss 2816563.750000\n",
      "    Params: tensor([-365879.4688,   -2981.1047])\n",
      "    Grad:   tensor([5.2968e+04, 1.9909e+00])\n",
      "Epoch 4500, Loss 2816562.750000\n",
      "    Params: tensor([-392344.2188,   -2981.7302])\n",
      "    Grad:   tensor([5.2903e+04, 7.3743e-01])\n",
      "Epoch 5000, Loss 2816562.750000\n",
      "    Params: tensor([-418788.0312,   -2981.9553])\n",
      "    Grad:   tensor([5.2880e+04, 2.8625e-01])\n"
     ]
    },
    {
     "data": {
      "text/plain": [
       "tensor([-418788.0312,   -2981.9553])"
      ]
     },
     "execution_count": 89,
     "metadata": {},
     "output_type": "execute_result"
    }
   ],
   "source": [
    "training_loop(\n",
    "    n_epochs = 5000, \n",
    "    learning_rate = 1e-3, \n",
    "    params = torch.tensor([1.0, 0.0]), \n",
    "    t_u = t_u, \n",
    "    t_c = t_c)"
   ]
  },
  {
   "cell_type": "code",
   "execution_count": 90,
   "id": "cfbf20ae",
   "metadata": {},
   "outputs": [
    {
     "name": "stdout",
     "output_type": "stream",
     "text": [
      "...\n",
      "...\n",
      "...\n",
      "Epoch 500, Loss 10100229.000000\n",
      "    Params: tensor([-17343.6582,   -283.8111])\n",
      "    Grad:   tensor([332463.3125,   5397.6533])\n",
      "Epoch 1000, Loss 8779804.000000\n",
      "    Params: tensor([-33289.1719,   -540.6117])\n",
      "    Grad:   tensor([305853.5000,   4883.9502])\n",
      "Epoch 1500, Loss 7698755.000000\n",
      "    Params: tensor([-47968.6797,   -772.9718])\n",
      "    Grad:   tensor([281776.1875,   4419.1362])\n",
      "Epoch 2000, Loss 6813683.000000\n",
      "    Params: tensor([-61502.6758,   -983.2181])\n",
      "    Grad:   tensor([259990.2656,   3998.5601])\n",
      "Epoch 2500, Loss 6089063.000000\n",
      "    Params: tensor([-74000.1719,  -1173.4546])\n",
      "    Grad:   tensor([240277.8281,   3618.0110])\n",
      "Epoch 3000, Loss 5495806.000000\n",
      "    Params: tensor([-85559.8359,  -1345.5861])\n",
      "    Grad:   tensor([222441.4375,   3273.6790])\n",
      "Epoch 3500, Loss 5010097.500000\n",
      "    Params: tensor([-96270.9219,  -1501.3359])\n",
      "    Grad:   tensor([206302.5469,   2962.1172])\n",
      "Epoch 4000, Loss 4612441.500000\n",
      "    Params: tensor([-106214.1406,   -1642.2622])\n",
      "    Grad:   tensor([191699.6406,   2680.2080])\n",
      "Epoch 4500, Loss 4286875.500000\n",
      "    Params: tensor([-115462.6562,   -1769.7761])\n",
      "    Grad:   tensor([178486.5781,   2425.1292])\n",
      "Epoch 5000, Loss 4020329.750000\n",
      "    Params: tensor([-124082.5156,   -1885.1543])\n",
      "    Grad:   tensor([166531.0156,   2194.3267])\n"
     ]
    },
    {
     "data": {
      "text/plain": [
       "tensor([-124082.5156,   -1885.1543])"
      ]
     },
     "execution_count": 90,
     "metadata": {},
     "output_type": "execute_result"
    }
   ],
   "source": [
    "training_loop(\n",
    "    n_epochs = 5000, \n",
    "    learning_rate = 1e-4, \n",
    "    params = torch.tensor([1.0, 0.0]), \n",
    "    t_u = t_u, \n",
    "    t_c = t_c)"
   ]
  },
  {
   "cell_type": "code",
   "execution_count": 91,
   "id": "b4efc651",
   "metadata": {},
   "outputs": [],
   "source": [
    "t_un = 0.1 * t_u"
   ]
  },
  {
   "cell_type": "code",
   "execution_count": 92,
   "id": "86dad6b8",
   "metadata": {},
   "outputs": [
    {
     "name": "stdout",
     "output_type": "stream",
     "text": [
      "...\n",
      "...\n",
      "...\n",
      "Epoch 500, Loss 95.563286\n",
      "    Params: tensor([-1630.1407,   -24.0880])\n",
      "    Grad:   tensor([3.0127e+01, 5.9605e-06])\n",
      "Epoch 1000, Loss 95.563286\n",
      "    Params: tensor([-3136.4885,   -24.0880])\n",
      "    Grad:   tensor([3.0127e+01, 5.9605e-06])\n",
      "Epoch 1500, Loss 95.563286\n",
      "    Params: tensor([-4642.8364,   -24.0880])\n",
      "    Grad:   tensor([3.0127e+01, 5.9605e-06])\n",
      "Epoch 2000, Loss 95.563286\n",
      "    Params: tensor([-6149.1841,   -24.0880])\n",
      "    Grad:   tensor([3.0127e+01, 5.9605e-06])\n",
      "Epoch 2500, Loss 95.563286\n",
      "    Params: tensor([-7655.5317,   -24.0880])\n",
      "    Grad:   tensor([3.0127e+01, 5.9605e-06])\n",
      "Epoch 3000, Loss 95.563286\n",
      "    Params: tensor([-9161.8799,   -24.0880])\n",
      "    Grad:   tensor([3.0127e+01, 5.9605e-06])\n",
      "Epoch 3500, Loss 95.563286\n",
      "    Params: tensor([-10668.2275,    -24.0880])\n",
      "    Grad:   tensor([3.0127e+01, 5.9605e-06])\n",
      "Epoch 4000, Loss 95.563286\n",
      "    Params: tensor([-12174.5752,    -24.0880])\n",
      "    Grad:   tensor([3.0127e+01, 5.9605e-06])\n",
      "Epoch 4500, Loss 95.563286\n",
      "    Params: tensor([-13680.9229,    -24.0880])\n",
      "    Grad:   tensor([3.0127e+01, 5.9605e-06])\n",
      "Epoch 5000, Loss 95.563286\n",
      "    Params: tensor([-15187.2705,    -24.0880])\n",
      "    Grad:   tensor([3.0127e+01, 5.9605e-06])\n"
     ]
    },
    {
     "data": {
      "text/plain": [
       "tensor([-15187.2705,    -24.0880])"
      ]
     },
     "execution_count": 92,
     "metadata": {},
     "output_type": "execute_result"
    }
   ],
   "source": [
    "training_loop(\n",
    "    n_epochs = 5000, \n",
    "    learning_rate = 1e-1, \n",
    "    params = torch.tensor([1.0, 0.0]),\n",
    "    t_u = t_un, # <1>\n",
    "    t_c = t_c)"
   ]
  },
  {
   "cell_type": "code",
   "execution_count": 93,
   "id": "269949d6",
   "metadata": {},
   "outputs": [
    {
     "name": "stdout",
     "output_type": "stream",
     "text": [
      "...\n",
      "...\n",
      "...\n",
      "Epoch 500, Loss 95.563278\n",
      "    Params: tensor([-274.4077,  -24.0870])\n",
      "    Grad:   tensor([3.0138e+01, 2.0201e-03])\n",
      "Epoch 1000, Loss 95.563286\n",
      "    Params: tensor([-425.0481,  -24.0879])\n",
      "    Grad:   tensor([3.0128e+01, 9.4891e-05])\n",
      "Epoch 1500, Loss 95.563286\n",
      "    Params: tensor([-575.6829,  -24.0879])\n",
      "    Grad:   tensor([3.0128e+01, 9.4891e-05])\n",
      "Epoch 2000, Loss 95.563286\n",
      "    Params: tensor([-726.3176,  -24.0879])\n",
      "    Grad:   tensor([3.0128e+01, 9.4891e-05])\n",
      "Epoch 2500, Loss 95.563286\n",
      "    Params: tensor([-876.9524,  -24.0879])\n",
      "    Grad:   tensor([3.0128e+01, 9.4891e-05])\n",
      "Epoch 3000, Loss 95.563286\n",
      "    Params: tensor([-1027.5872,   -24.0879])\n",
      "    Grad:   tensor([3.0128e+01, 9.4891e-05])\n",
      "Epoch 3500, Loss 95.563286\n",
      "    Params: tensor([-1178.2219,   -24.0879])\n",
      "    Grad:   tensor([3.0128e+01, 9.4891e-05])\n",
      "Epoch 4000, Loss 95.563286\n",
      "    Params: tensor([-1328.8567,   -24.0879])\n",
      "    Grad:   tensor([3.0128e+01, 9.4891e-05])\n",
      "Epoch 4500, Loss 95.563286\n",
      "    Params: tensor([-1479.4915,   -24.0879])\n",
      "    Grad:   tensor([3.0128e+01, 9.4891e-05])\n",
      "Epoch 5000, Loss 95.563286\n",
      "    Params: tensor([-1630.1262,   -24.0879])\n",
      "    Grad:   tensor([3.0128e+01, 9.4891e-05])\n"
     ]
    },
    {
     "data": {
      "text/plain": [
       "tensor([-1630.1262,   -24.0879])"
      ]
     },
     "execution_count": 93,
     "metadata": {},
     "output_type": "execute_result"
    }
   ],
   "source": [
    "training_loop(\n",
    "    n_epochs = 5000, \n",
    "    learning_rate = 1e-2, \n",
    "    params = torch.tensor([1.0, 0.0]), \n",
    "    t_u = t_un, # <1>\n",
    "    t_c = t_c)"
   ]
  },
  {
   "cell_type": "code",
   "execution_count": 94,
   "id": "1e4f259c",
   "metadata": {},
   "outputs": [
    {
     "name": "stdout",
     "output_type": "stream",
     "text": [
      "...\n",
      "...\n",
      "...\n",
      "Epoch 500, Loss 174.246384\n",
      "    Params: tensor([-92.9830, -15.2354])\n",
      "    Grad:   tensor([122.0243,  17.7407])\n",
      "Epoch 1000, Loss 106.190544\n",
      "    Params: tensor([-137.0504,  -20.8346])\n",
      "    Grad:   tensor([63.9005,  6.5199])\n",
      "Epoch 1500, Loss 96.998665\n",
      "    Params: tensor([-162.7733,  -22.8923])\n",
      "    Grad:   tensor([42.5395,  2.3962])\n",
      "Epoch 2000, Loss 95.757156\n",
      "    Params: tensor([-181.7546,  -23.6485])\n",
      "    Grad:   tensor([34.6891,  0.8806])\n",
      "Epoch 2500, Loss 95.589470\n",
      "    Params: tensor([-198.2581,  -23.9265])\n",
      "    Grad:   tensor([31.8040,  0.3237])\n",
      "Epoch 3000, Loss 95.566818\n",
      "    Params: tensor([-213.8510,  -24.0286])\n",
      "    Grad:   tensor([30.7436,  0.1190])\n",
      "Epoch 3500, Loss 95.563744\n",
      "    Params: tensor([-229.1091,  -24.0662])\n",
      "    Grad:   tensor([30.3539,  0.0437])\n",
      "Epoch 4000, Loss 95.563347\n",
      "    Params: tensor([-244.2443,  -24.0800])\n",
      "    Grad:   tensor([3.0211e+01, 1.6066e-02])\n",
      "Epoch 4500, Loss 95.563286\n",
      "    Params: tensor([-259.3331,  -24.0850])\n",
      "    Grad:   tensor([3.0158e+01, 5.9538e-03])\n",
      "Epoch 5000, Loss 95.563263\n",
      "    Params: tensor([-274.4088,  -24.0868])\n",
      "    Grad:   tensor([3.0139e+01, 2.2986e-03])\n"
     ]
    },
    {
     "data": {
      "text/plain": [
       "tensor([-274.4088,  -24.0868])"
      ]
     },
     "execution_count": 94,
     "metadata": {},
     "output_type": "execute_result"
    }
   ],
   "source": [
    "training_loop(\n",
    "    n_epochs = 5000, \n",
    "    learning_rate = 1e-3, \n",
    "    params = torch.tensor([1.0, 0.0]), \n",
    "    t_u = t_un, # <1>\n",
    "    t_c = t_c)"
   ]
  },
  {
   "cell_type": "code",
   "execution_count": 95,
   "id": "39379e2e",
   "metadata": {},
   "outputs": [
    {
     "name": "stdout",
     "output_type": "stream",
     "text": [
      "...\n",
      "...\n",
      "...\n",
      "Epoch 500, Loss 570.796814\n",
      "    Params: tensor([-12.3815,  -2.2925])\n",
      "    Grad:   tensor([255.9739,  43.5997])\n",
      "Epoch 1000, Loss 484.643860\n",
      "    Params: tensor([-24.6328,  -4.3668])\n",
      "    Grad:   tensor([234.4797,  39.4503])\n",
      "Epoch 1500, Loss 414.109344\n",
      "    Params: tensor([-35.8616,  -6.2437])\n",
      "    Grad:   tensor([215.0312,  35.6957])\n",
      "Epoch 2000, Loss 356.361481\n",
      "    Params: tensor([-46.1650,  -7.9420])\n",
      "    Grad:   tensor([197.4337,  32.2985])\n",
      "Epoch 2500, Loss 309.082672\n",
      "    Params: tensor([-55.6312,  -9.4786])\n",
      "    Grad:   tensor([181.5109,  29.2246])\n",
      "Epoch 3000, Loss 270.374603\n",
      "    Params: tensor([-64.3398, -10.8690])\n",
      "    Grad:   tensor([167.1035,  26.4432])\n",
      "Epoch 3500, Loss 238.683853\n",
      "    Params: tensor([-72.3631, -12.1271])\n",
      "    Grad:   tensor([154.0672,  23.9266])\n",
      "Epoch 4000, Loss 212.738281\n",
      "    Params: tensor([-79.7661, -13.2654])\n",
      "    Grad:   tensor([142.2717,  21.6495])\n",
      "Epoch 4500, Loss 191.496140\n",
      "    Params: tensor([-86.6078, -14.2954])\n",
      "    Grad:   tensor([131.5988,  19.5891])\n",
      "Epoch 5000, Loss 174.104782\n",
      "    Params: tensor([-92.9418, -15.2274])\n",
      "    Grad:   tensor([121.9415,  17.7247])\n"
     ]
    },
    {
     "data": {
      "text/plain": [
       "tensor([-92.9418, -15.2274])"
      ]
     },
     "execution_count": 95,
     "metadata": {},
     "output_type": "execute_result"
    }
   ],
   "source": [
    "training_loop(\n",
    "    n_epochs = 5000, \n",
    "    learning_rate = 1e-4, \n",
    "    params = torch.tensor([1.0, 0.0]), \n",
    "    t_u = t_un, # <1>\n",
    "    t_c = t_c)"
   ]
  },
  {
   "cell_type": "code",
   "execution_count": 96,
   "id": "6f1c0530",
   "metadata": {},
   "outputs": [
    {
     "data": {
      "text/html": [
       "<div>\n",
       "<style scoped>\n",
       "    .dataframe tbody tr th:only-of-type {\n",
       "        vertical-align: middle;\n",
       "    }\n",
       "\n",
       "    .dataframe tbody tr th {\n",
       "        vertical-align: top;\n",
       "    }\n",
       "\n",
       "    .dataframe thead th {\n",
       "        text-align: right;\n",
       "    }\n",
       "</style>\n",
       "<table border=\"1\" class=\"dataframe\">\n",
       "  <thead>\n",
       "    <tr style=\"text-align: right;\">\n",
       "      <th></th>\n",
       "      <th>price</th>\n",
       "      <th>area</th>\n",
       "      <th>bedrooms</th>\n",
       "      <th>bathrooms</th>\n",
       "      <th>stories</th>\n",
       "      <th>mainroad</th>\n",
       "      <th>guestroom</th>\n",
       "      <th>basement</th>\n",
       "      <th>hotwaterheating</th>\n",
       "      <th>airconditioning</th>\n",
       "      <th>parking</th>\n",
       "      <th>prefarea</th>\n",
       "      <th>furnishingstatus</th>\n",
       "    </tr>\n",
       "  </thead>\n",
       "  <tbody>\n",
       "    <tr>\n",
       "      <th>0</th>\n",
       "      <td>13300000</td>\n",
       "      <td>7420</td>\n",
       "      <td>4</td>\n",
       "      <td>2</td>\n",
       "      <td>3</td>\n",
       "      <td>yes</td>\n",
       "      <td>no</td>\n",
       "      <td>no</td>\n",
       "      <td>no</td>\n",
       "      <td>yes</td>\n",
       "      <td>2</td>\n",
       "      <td>yes</td>\n",
       "      <td>furnished</td>\n",
       "    </tr>\n",
       "    <tr>\n",
       "      <th>1</th>\n",
       "      <td>12250000</td>\n",
       "      <td>8960</td>\n",
       "      <td>4</td>\n",
       "      <td>4</td>\n",
       "      <td>4</td>\n",
       "      <td>yes</td>\n",
       "      <td>no</td>\n",
       "      <td>no</td>\n",
       "      <td>no</td>\n",
       "      <td>yes</td>\n",
       "      <td>3</td>\n",
       "      <td>no</td>\n",
       "      <td>furnished</td>\n",
       "    </tr>\n",
       "    <tr>\n",
       "      <th>2</th>\n",
       "      <td>12250000</td>\n",
       "      <td>9960</td>\n",
       "      <td>3</td>\n",
       "      <td>2</td>\n",
       "      <td>2</td>\n",
       "      <td>yes</td>\n",
       "      <td>no</td>\n",
       "      <td>yes</td>\n",
       "      <td>no</td>\n",
       "      <td>no</td>\n",
       "      <td>2</td>\n",
       "      <td>yes</td>\n",
       "      <td>semi-furnished</td>\n",
       "    </tr>\n",
       "    <tr>\n",
       "      <th>3</th>\n",
       "      <td>12215000</td>\n",
       "      <td>7500</td>\n",
       "      <td>4</td>\n",
       "      <td>2</td>\n",
       "      <td>2</td>\n",
       "      <td>yes</td>\n",
       "      <td>no</td>\n",
       "      <td>yes</td>\n",
       "      <td>no</td>\n",
       "      <td>yes</td>\n",
       "      <td>3</td>\n",
       "      <td>yes</td>\n",
       "      <td>furnished</td>\n",
       "    </tr>\n",
       "    <tr>\n",
       "      <th>4</th>\n",
       "      <td>11410000</td>\n",
       "      <td>7420</td>\n",
       "      <td>4</td>\n",
       "      <td>1</td>\n",
       "      <td>2</td>\n",
       "      <td>yes</td>\n",
       "      <td>yes</td>\n",
       "      <td>yes</td>\n",
       "      <td>no</td>\n",
       "      <td>yes</td>\n",
       "      <td>2</td>\n",
       "      <td>no</td>\n",
       "      <td>furnished</td>\n",
       "    </tr>\n",
       "  </tbody>\n",
       "</table>\n",
       "</div>"
      ],
      "text/plain": [
       "      price  area  bedrooms  bathrooms  stories mainroad guestroom basement  \\\n",
       "0  13300000  7420         4          2        3      yes        no       no   \n",
       "1  12250000  8960         4          4        4      yes        no       no   \n",
       "2  12250000  9960         3          2        2      yes        no      yes   \n",
       "3  12215000  7500         4          2        2      yes        no      yes   \n",
       "4  11410000  7420         4          1        2      yes       yes      yes   \n",
       "\n",
       "  hotwaterheating airconditioning  parking prefarea furnishingstatus  \n",
       "0              no             yes        2      yes        furnished  \n",
       "1              no             yes        3       no        furnished  \n",
       "2              no              no        2      yes   semi-furnished  \n",
       "3              no             yes        3      yes        furnished  \n",
       "4              no             yes        2       no        furnished  "
      ]
     },
     "execution_count": 96,
     "metadata": {},
     "output_type": "execute_result"
    }
   ],
   "source": [
    "housing = pd.DataFrame(pd.read_csv('Housing.csv'))\n",
    "housing.head()"
   ]
  },
  {
   "cell_type": "code",
   "execution_count": 97,
   "id": "2a9a2b1e",
   "metadata": {},
   "outputs": [],
   "source": [
    "m = len(housing)"
   ]
  },
  {
   "cell_type": "code",
   "execution_count": 98,
   "id": "c42b63be",
   "metadata": {},
   "outputs": [],
   "source": [
    "housing = housing.drop(labels = \"furnishingstatus\", axis=1)\n",
    "from sklearn.model_selection import train_test_split\n",
    "np.random.seed(0)\n",
    "df_train, df_test =train_test_split(housing, \n",
    "        train_size = 0.8, test_size = 0.2)"
   ]
  },
  {
   "cell_type": "code",
   "execution_count": 99,
   "id": "263d76b7",
   "metadata": {},
   "outputs": [
    {
     "data": {
      "text/html": [
       "<div>\n",
       "<style scoped>\n",
       "    .dataframe tbody tr th:only-of-type {\n",
       "        vertical-align: middle;\n",
       "    }\n",
       "\n",
       "    .dataframe tbody tr th {\n",
       "        vertical-align: top;\n",
       "    }\n",
       "\n",
       "    .dataframe thead th {\n",
       "        text-align: right;\n",
       "    }\n",
       "</style>\n",
       "<table border=\"1\" class=\"dataframe\">\n",
       "  <thead>\n",
       "    <tr style=\"text-align: right;\">\n",
       "      <th></th>\n",
       "      <th>price</th>\n",
       "      <th>area</th>\n",
       "      <th>bedrooms</th>\n",
       "      <th>bathrooms</th>\n",
       "      <th>stories</th>\n",
       "      <th>parking</th>\n",
       "    </tr>\n",
       "  </thead>\n",
       "  <tbody>\n",
       "    <tr>\n",
       "      <th>542</th>\n",
       "      <td>1750000</td>\n",
       "      <td>3620</td>\n",
       "      <td>2</td>\n",
       "      <td>1</td>\n",
       "      <td>1</td>\n",
       "      <td>0</td>\n",
       "    </tr>\n",
       "    <tr>\n",
       "      <th>496</th>\n",
       "      <td>2695000</td>\n",
       "      <td>4000</td>\n",
       "      <td>2</td>\n",
       "      <td>1</td>\n",
       "      <td>1</td>\n",
       "      <td>0</td>\n",
       "    </tr>\n",
       "    <tr>\n",
       "      <th>484</th>\n",
       "      <td>2870000</td>\n",
       "      <td>3040</td>\n",
       "      <td>2</td>\n",
       "      <td>1</td>\n",
       "      <td>1</td>\n",
       "      <td>0</td>\n",
       "    </tr>\n",
       "    <tr>\n",
       "      <th>507</th>\n",
       "      <td>2590000</td>\n",
       "      <td>3600</td>\n",
       "      <td>2</td>\n",
       "      <td>1</td>\n",
       "      <td>1</td>\n",
       "      <td>0</td>\n",
       "    </tr>\n",
       "    <tr>\n",
       "      <th>252</th>\n",
       "      <td>4515000</td>\n",
       "      <td>9860</td>\n",
       "      <td>3</td>\n",
       "      <td>1</td>\n",
       "      <td>1</td>\n",
       "      <td>0</td>\n",
       "    </tr>\n",
       "  </tbody>\n",
       "</table>\n",
       "</div>"
      ],
      "text/plain": [
       "       price  area  bedrooms  bathrooms  stories  parking\n",
       "542  1750000  3620         2          1        1        0\n",
       "496  2695000  4000         2          1        1        0\n",
       "484  2870000  3040         2          1        1        0\n",
       "507  2590000  3600         2          1        1        0\n",
       "252  4515000  9860         3          1        1        0"
      ]
     },
     "execution_count": 99,
     "metadata": {},
     "output_type": "execute_result"
    }
   ],
   "source": [
    "num_vars_b = ['price','area', 'bedrooms', 'bathrooms', \n",
    "              'stories', 'parking',]\n",
    "df_Newtrain_b = df_train[num_vars_b]\n",
    "df_Newtest_b = df_test[num_vars_b]\n",
    "df_Newtrain_b.head()"
   ]
  },
  {
   "cell_type": "code",
   "execution_count": 100,
   "id": "e314d157",
   "metadata": {},
   "outputs": [],
   "source": [
    "X = df_Newtest_b.values[:,1:10]\n",
    "Y = df_Newtest_b.values[:,0]"
   ]
  },
  {
   "cell_type": "code",
   "execution_count": 101,
   "id": "42074b14",
   "metadata": {},
   "outputs": [],
   "source": [
    "sc_X2 = StandardScaler() \n",
    "X1 = sc_X2.fit_transform(X) \n",
    "Y =Y.reshape(-1,1)"
   ]
  },
  {
   "cell_type": "code",
   "execution_count": 102,
   "id": "ab11ea09",
   "metadata": {},
   "outputs": [
    {
     "data": {
      "text/plain": [
       "array([[-0.08135801],\n",
       "       [ 0.80111439],\n",
       "       [-0.42156349],\n",
       "       [ 1.30008243],\n",
       "       [-1.05042817],\n",
       "       [ 0.86709364],\n",
       "       [-0.69991343],\n",
       "       [-1.05042817],\n",
       "       [-0.72053194],\n",
       "       [ 1.91863786],\n",
       "       [ 1.19698986],\n",
       "       [-0.43187275],\n",
       "       [-0.92671708],\n",
       "       [-0.84424303],\n",
       "       [-0.34939869],\n",
       "       [-1.21537628],\n",
       "       [-0.18445058],\n",
       "       [-0.59682086],\n",
       "       [-0.803006  ],\n",
       "       [-0.26692463],\n",
       "       [ 0.16606416],\n",
       "       [ 0.38874411],\n",
       "       [ 1.01142324],\n",
       "       [-1.66898359],\n",
       "       [ 0.82585661],\n",
       "       [ 0.43410484],\n",
       "       [ 0.63616628],\n",
       "       [-0.06073949],\n",
       "       [ 0.47534187],\n",
       "       [ 0.72276404],\n",
       "       [-0.24630612],\n",
       "       [-0.63805789],\n",
       "       [ 0.31039376],\n",
       "       [-0.82362451],\n",
       "       [-0.60094456],\n",
       "       [ 0.01761086],\n",
       "       [ 2.5784303 ],\n",
       "       [-0.72053194],\n",
       "       [-0.92671708],\n",
       "       [-0.26692463],\n",
       "       [ 2.49595625],\n",
       "       [-0.39063572],\n",
       "       [ 0.59905296],\n",
       "       [-0.93908819],\n",
       "       [-0.64218159],\n",
       "       [ 1.67121569],\n",
       "       [-0.06073949],\n",
       "       [-0.84424303],\n",
       "       [-0.32878018],\n",
       "       [ 1.13513432],\n",
       "       [-0.32878018],\n",
       "       [-0.01950247],\n",
       "       [-0.92671708],\n",
       "       [-0.5143468 ],\n",
       "       [-0.84424303],\n",
       "       [ 0.20730119],\n",
       "       [ 1.05266026],\n",
       "       [ 0.59905296],\n",
       "       [-0.55558383],\n",
       "       [ 0.04235308],\n",
       "       [ 0.10420862],\n",
       "       [ 0.43410484],\n",
       "       [-0.72053194],\n",
       "       [ 1.65059717],\n",
       "       [-1.11228371],\n",
       "       [ 0.45472336],\n",
       "       [ 2.33100814],\n",
       "       [-0.30816166],\n",
       "       [-0.30816166],\n",
       "       [ 0.10420862],\n",
       "       [-0.81950081],\n",
       "       [ 0.86709364],\n",
       "       [-0.36795535],\n",
       "       [ 1.13513432],\n",
       "       [-0.49372829],\n",
       "       [-0.06073949],\n",
       "       [-1.62774656],\n",
       "       [ 1.01142324],\n",
       "       [-1.75145765],\n",
       "       [-0.6586764 ],\n",
       "       [-0.84424303],\n",
       "       [ 0.14544565],\n",
       "       [-0.0648632 ],\n",
       "       [-0.5143468 ],\n",
       "       [-0.72053194],\n",
       "       [ 0.81554735],\n",
       "       [-0.55558383],\n",
       "       [ 0.10420862],\n",
       "       [-0.67929492],\n",
       "       [-0.22568761],\n",
       "       [-0.72053194],\n",
       "       [ 0.92894918],\n",
       "       [-0.78238749],\n",
       "       [-0.53496532],\n",
       "       [-0.47310978],\n",
       "       [ 4.43409657],\n",
       "       [-0.96795411],\n",
       "       [ 2.70214139],\n",
       "       [-0.26692463],\n",
       "       [-0.55558383],\n",
       "       [ 0.5165789 ],\n",
       "       [-0.84424303],\n",
       "       [-1.38032439],\n",
       "       [ 0.2279197 ],\n",
       "       [ 1.13513432],\n",
       "       [ 0.64028998],\n",
       "       [-0.35352239],\n",
       "       [-0.96795411],\n",
       "       [ 0.47534187]])"
      ]
     },
     "execution_count": 102,
     "metadata": {},
     "output_type": "execute_result"
    }
   ],
   "source": [
    "Y1= sc_X2.fit_transform(Y)\n",
    "Y1"
   ]
  },
  {
   "cell_type": "code",
   "execution_count": 103,
   "id": "195ab597",
   "metadata": {},
   "outputs": [],
   "source": [
    "X1 = torch.tensor(df_Newtest_b.values[:,1], dtype=torch.float)\n",
    "X2 = torch.tensor(df_Newtest_b.values[:,2], dtype=torch.float)\n",
    "X3 = torch.tensor(df_Newtest_b.values[:,3], dtype=torch.float)\n",
    "X4 = torch.tensor(df_Newtest_b.values[:,4], dtype=torch.float)\n",
    "X5 = torch.tensor(Y, dtype=torch.float)"
   ]
  },
  {
   "cell_type": "code",
   "execution_count": 104,
   "id": "c426267f",
   "metadata": {},
   "outputs": [],
   "source": [
    "def model(X5, X4, X3, X2, X1, W5, \n",
    "          W4, W3, W2, W1, B):\n",
    "    return W5*X5 + W4*X4 + W3*X3 + W2*X2 + W1*X1 + B"
   ]
  },
  {
   "cell_type": "code",
   "execution_count": 105,
   "id": "369e0640",
   "metadata": {},
   "outputs": [],
   "source": [
    "def loss_fn(t_p, X4, X3, X2, X1):\n",
    "    squared_diffs = (t_p - (X4 + X3 + X2 + X1))**2\n",
    "    return squared_diffs.mean()"
   ]
  },
  {
   "cell_type": "code",
   "execution_count": 106,
   "id": "8db2c2a3",
   "metadata": {
    "scrolled": true
   },
   "outputs": [
    {
     "data": {
      "text/plain": [
       "tensor([[4589006., 4594625., 4588467., 4598204.,  ..., 4590207.,\n",
       "         4591064., 4589505., 4591106.],\n",
       "        [6087006., 6092625., 6086467., 6096204.,  ..., 6088207.,\n",
       "         6089064., 6087505., 6089106.],\n",
       "        [4011506., 4017125., 4010967., 4020704.,  ..., 4012707.,\n",
       "         4013564., 4012005., 4013606.],\n",
       "        [6934006., 6939625., 6933467., 6943204.,  ..., 6935207.,\n",
       "         6936064., 6934505., 6936106.],\n",
       "        ...,\n",
       "        [5814006., 5819625., 5813467., 5823204.,  ..., 5815207.,\n",
       "         5816064., 5814505., 5816106.],\n",
       "        [4127006., 4132625., 4126467., 4136204.,  ..., 4128207.,\n",
       "         4129064., 4127505., 4129106.],\n",
       "        [3084006., 3089625., 3083467., 3093204.,  ..., 3085207.,\n",
       "         3086064., 3084505., 3086106.],\n",
       "        [5534006., 5539625., 5533467., 5543204.,  ..., 5535207.,\n",
       "         5536064., 5534505., 5536106.]])"
      ]
     },
     "execution_count": 106,
     "metadata": {},
     "output_type": "execute_result"
    }
   ],
   "source": [
    "W1 = torch.ones(())\n",
    "W2 = torch.ones(())\n",
    "W3 = torch.ones(())\n",
    "W4 = torch.ones(())\n",
    "W5 = torch.ones(())\n",
    "B = torch.zeros(())\n",
    "\n",
    "t_p = model(X5, X4, X3, X2, X1, W5, W4, W3, W2, W1, B)\n",
    "t_p"
   ]
  },
  {
   "cell_type": "code",
   "execution_count": 107,
   "id": "8f571b0e",
   "metadata": {},
   "outputs": [
    {
     "data": {
      "text/plain": [
       "tensor(2.5189e+13)"
      ]
     },
     "execution_count": 107,
     "metadata": {},
     "output_type": "execute_result"
    }
   ],
   "source": [
    "loss = loss_fn(t_p, X4, X3, X2, X1)\n",
    "loss"
   ]
  },
  {
   "cell_type": "code",
   "execution_count": 108,
   "id": "1a8203ae",
   "metadata": {},
   "outputs": [
    {
     "name": "stdout",
     "output_type": "stream",
     "text": [
      "shapes: x: torch.Size([]), y: torch.Size([7, 1])\n",
      "        z: torch.Size([1, 7]), a: torch.Size([6, 1, 1])\n",
      "x * y: torch.Size([7, 1])\n",
      "y * z: torch.Size([7, 7])\n",
      "y * z * a: torch.Size([6, 7, 7])\n"
     ]
    }
   ],
   "source": [
    "x = torch.ones(())\n",
    "y = torch.ones(7,1)\n",
    "z = torch.ones(1,7)\n",
    "a = torch.ones(6, 1, 1)\n",
    "print(f\"shapes: x: {x.shape}, y: {y.shape}\")\n",
    "print(f\"        z: {z.shape}, a: {a.shape}\")\n",
    "print(\"x * y:\", (x * y).shape)\n",
    "print(\"y * z:\", (y * z).shape)\n",
    "print(\"y * z * a:\", (y * z * a).shape)"
   ]
  },
  {
   "cell_type": "code",
   "execution_count": 109,
   "id": "cd3ba889",
   "metadata": {},
   "outputs": [],
   "source": [
    "delta = 0.1\n",
    "\n",
    "loss_rate_of_change_w = \\\n",
    "    (loss_fn(model(X5, X4, X3, X2, X1, W1 + delta, W2 + delta, \n",
    "                W3 + delta, W4 + delta, W5 + delta,\n",
    "                B), X4, X3, X2, X1) - \n",
    "     loss_fn(model(X5, X4, X3, X2, X1, W1 - delta, W2 - delta, \n",
    "                W3 - delta, W4 - delta, W5 - delta,\n",
    "                B), X4, X3, X2, X1)) / (2.0 * delta)"
   ]
  },
  {
   "cell_type": "code",
   "execution_count": 110,
   "id": "2fcee09d",
   "metadata": {},
   "outputs": [],
   "source": [
    "learning_rate = 1e-2\n",
    "\n",
    "w = w - learning_rate * loss_rate_of_change_w"
   ]
  },
  {
   "cell_type": "code",
   "execution_count": 111,
   "id": "427126ea",
   "metadata": {},
   "outputs": [],
   "source": [
    "loss_rate_of_change_b = \\\n",
    "    (loss_fn(model(X5, X4, X3, X2, X1, W1 + delta, W2 + delta, \n",
    "                W3 + delta, W4 + delta, W5 + delta,\n",
    "                B), X4, X3, X2, X1) - \n",
    "     loss_fn(model(X5, X4, X3, X2, X1, W1 - delta, W2 - delta, \n",
    "                W3 - delta, W4 - delta, W5 - delta,\n",
    "                B), X4, X3, X2, X1)) / (2.0 * delta)\n",
    "\n",
    "b = b - learning_rate * loss_rate_of_change_b"
   ]
  },
  {
   "cell_type": "code",
   "execution_count": 112,
   "id": "03e9c5ea",
   "metadata": {},
   "outputs": [],
   "source": [
    "def dloss_fn(t_p, X5):\n",
    "    dsq_diffs = 2 * (t_p - X5) / t_p.size(0)  # <1>\n",
    "    return dsq_diffs"
   ]
  },
  {
   "cell_type": "code",
   "execution_count": 113,
   "id": "77f467c7",
   "metadata": {},
   "outputs": [],
   "source": [
    "def dmodel_dw(X5, X4, X3, X2, X1, W5, W4, W3, W2, W1, B):\n",
    "    return X5, X4, X3, X2, X1"
   ]
  },
  {
   "cell_type": "code",
   "execution_count": 114,
   "id": "4b89d936",
   "metadata": {},
   "outputs": [],
   "source": [
    "def dmodel_db(X5, X4, X3, X2, X1, W5, W4, W3, W2, W1, B):\n",
    "    return 1.0"
   ]
  },
  {
   "cell_type": "code",
   "execution_count": 115,
   "id": "ea72a342",
   "metadata": {},
   "outputs": [],
   "source": [
    "def grad_fn(X5, X4, X3, X2, X1, W5, W4, W3, W2, W1, B):\n",
    "    dloss_dtp = dloss_fn(t_p, X5)\n",
    "    dloss_dw = dloss_dtp * dmodel_dw(X4, X3, X2, X1, W5, W4, W3, W2, W1, B)\n",
    "    dloss_db = dloss_dtp * dmodel_db(X4, X3, X2, X1, W5, W4, W3, W2, W1, B)\n",
    "    return torch.stack([dloss_dw.sum(), dloss_db.sum()])  # <1>"
   ]
  },
  {
   "cell_type": "code",
   "execution_count": 116,
   "id": "232f780f",
   "metadata": {},
   "outputs": [],
   "source": [
    "def training_loop(n_epochs, learning_rate, params, \n",
    "                  X5, X4, X3, X2, X1):\n",
    "    for epoch in range(1, n_epochs + 1):\n",
    "        w, b = params\n",
    "\n",
    "        t_p = model(X5, W5, W4, W3, W2, W1, B)  # <1>\n",
    "        loss = loss_fn(X5, X4, X3, X2, X1)\n",
    "        grad = grad_fn(X5, X4, X3, X2, X1, t_p, W5, \n",
    "                       W4, W3, W2, W1, B)  # <2>\n",
    "\n",
    "        params = params - learning_rate * grad\n",
    "\n",
    "        print('Epoch %d, Loss %f' % (epoch, float(loss))) # <3>\n",
    "            \n",
    "    return params"
   ]
  },
  {
   "cell_type": "code",
   "execution_count": 117,
   "id": "e8348792",
   "metadata": {},
   "outputs": [],
   "source": [
    "def training_loop(n_epochs, learning_rate, params, X5, X4, \n",
    "                  X3, X2, X1, print_params=True):\n",
    "    for epoch in range(1, n_epochs + 1):\n",
    "        W5, W4, W3, W2, W1, B = params\n",
    "\n",
    "        t_p = model(X5, W5, W4, W3, W2, W1, B)  # <1>\n",
    "        loss = loss_fn(t_p, X4, X3, X2, X1)\n",
    "        grad = grad_fn(X5, X4, X3, X2, X1, t_p,\n",
    "                       W5, W4, W3, W2, W1, B)  # <2>\n",
    "\n",
    "        params = params - learning_rate * grad\n",
    "\n",
    "        if epoch in {500, 1000, 1500, 2000, 2500, 3000, 3500, 4000, 4500, 5000}:  # <3>\n",
    "            print('Epoch %d, Loss %f' % (epoch, float(loss)))\n",
    "            if print_params:\n",
    "                print('    Params:', params)\n",
    "                print('    Grad:  ', grad)\n",
    "        if epoch in {4, 12, 101}:\n",
    "            print('...')\n",
    "\n",
    "        if not torch.isfinite(loss).all():\n",
    "            break  # <3>\n",
    "            \n",
    "    return params"
   ]
  },
  {
   "cell_type": "code",
   "execution_count": 118,
   "id": "085344a7",
   "metadata": {},
   "outputs": [
    {
     "ename": "SyntaxError",
     "evalue": "unexpected EOF while parsing (1646145277.py, line 5)",
     "output_type": "error",
     "traceback": [
      "\u001b[1;36m  Cell \u001b[1;32mIn [118], line 5\u001b[1;36m\u001b[0m\n\u001b[1;33m    requires_grad=True)\u001b[0m\n\u001b[1;37m                       ^\u001b[0m\n\u001b[1;31mSyntaxError\u001b[0m\u001b[1;31m:\u001b[0m unexpected EOF while parsing\n"
     ]
    }
   ],
   "source": [
    "training_loop(\n",
    "    n_epochs = 5000, \n",
    "    learning_rate = 1e-1, \n",
    "    params = torch.tensor([1.0, 1.0, 1.0, 1.0, 1.0, 0.0], \n",
    "                          requires_grad=True)"
   ]
  },
  {
   "cell_type": "code",
   "execution_count": 119,
   "id": "994724b8",
   "metadata": {},
   "outputs": [],
   "source": [
    "#Choosing the values\n",
    "num_vars = ['price', 'area', 'bedrooms', 'bathrooms', 'stories', 'parking']\n",
    "df_vals = housing[num_vars]"
   ]
  },
  {
   "cell_type": "code",
   "execution_count": 120,
   "id": "ee2d9fa2",
   "metadata": {},
   "outputs": [],
   "source": [
    "X = df_vals.iloc[:, 1:6].values\n",
    "Y = df_vals.iloc[:, 0].values\n",
    "\n",
    "X = torch.tensor(X)\n",
    "Y = torch.tensor(Y)"
   ]
  },
  {
   "cell_type": "code",
   "execution_count": 125,
   "id": "9ea293ee",
   "metadata": {},
   "outputs": [
    {
     "ename": "NameError",
     "evalue": "name 'val_indices' is not defined",
     "output_type": "error",
     "traceback": [
      "\u001b[1;31m---------------------------------------------------------------------------\u001b[0m",
      "\u001b[1;31mNameError\u001b[0m                                 Traceback (most recent call last)",
      "Cell \u001b[1;32mIn [125], line 7\u001b[0m\n\u001b[0;32m      2\u001b[0m n_val \u001b[38;5;241m=\u001b[39m \u001b[38;5;28mint\u001b[39m(\u001b[38;5;241m0.2\u001b[39m \u001b[38;5;241m*\u001b[39m n_samples)\n\u001b[0;32m      4\u001b[0m df_train, df_test \u001b[38;5;241m=\u001b[39mtrain_test_split(housing, \n\u001b[0;32m      5\u001b[0m         train_size \u001b[38;5;241m=\u001b[39m \u001b[38;5;241m0.8\u001b[39m, test_size \u001b[38;5;241m=\u001b[39m \u001b[38;5;241m0.2\u001b[39m)\n\u001b[1;32m----> 7\u001b[0m val_X \u001b[38;5;241m=\u001b[39m X[\u001b[43mval_indices\u001b[49m]\n\u001b[0;32m      8\u001b[0m val_Y \u001b[38;5;241m=\u001b[39m Y[val_indices]\n\u001b[0;32m      9\u001b[0m val_Y \u001b[38;5;241m=\u001b[39m val_Y\u001b[38;5;241m.\u001b[39munsqueeze(\u001b[38;5;241m1\u001b[39m)\n",
      "\u001b[1;31mNameError\u001b[0m: name 'val_indices' is not defined"
     ]
    }
   ],
   "source": [
    "n_samples = X.shape[0]\n",
    "n_val = int(0.2 * n_samples)\n",
    "\n",
    "df_train, df_test =train_test_split(housing, \n",
    "        train_size = 0.8, test_size = 0.2)\n",
    "\n",
    "val_X = X[val_indices]\n",
    "val_Y = Y[val_indices]\n",
    "val_Y = val_Y.unsqueeze(1)"
   ]
  },
  {
   "cell_type": "code",
   "execution_count": null,
   "id": "9be5b82b",
   "metadata": {},
   "outputs": [],
   "source": []
  }
 ],
 "metadata": {
  "kernelspec": {
   "display_name": "Python 3 (ipykernel)",
   "language": "python",
   "name": "python3"
  },
  "language_info": {
   "codemirror_mode": {
    "name": "ipython",
    "version": 3
   },
   "file_extension": ".py",
   "mimetype": "text/x-python",
   "name": "python",
   "nbconvert_exporter": "python",
   "pygments_lexer": "ipython3",
   "version": "3.9.13"
  }
 },
 "nbformat": 4,
 "nbformat_minor": 5
}
