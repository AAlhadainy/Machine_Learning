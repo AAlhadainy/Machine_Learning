{
 "cells": [
  {
   "cell_type": "code",
   "execution_count": 2,
   "id": "59e7fcac",
   "metadata": {},
   "outputs": [],
   "source": [
    "import numpy as np\n",
    "import pandas as pd\n",
    "import matplotlib.pyplot as plt\n",
    "from sklearn. model_selection import KFold\n",
    "from sklearn.model_selection import cross_val_score\n",
    "from sklearn. linear_model import LogisticRegression\n",
    "from sklearn import datasets, linear_model, metrics\n",
    "from sklearn. metrics import confusion_matrix\n",
    "from sklearn.metrics import classification_report"
   ]
  },
  {
   "cell_type": "code",
   "execution_count": 3,
   "id": "d059e9df",
   "metadata": {},
   "outputs": [
    {
     "data": {
      "text/html": [
       "<div>\n",
       "<style scoped>\n",
       "    .dataframe tbody tr th:only-of-type {\n",
       "        vertical-align: middle;\n",
       "    }\n",
       "\n",
       "    .dataframe tbody tr th {\n",
       "        vertical-align: top;\n",
       "    }\n",
       "\n",
       "    .dataframe thead th {\n",
       "        text-align: right;\n",
       "    }\n",
       "</style>\n",
       "<table border=\"1\" class=\"dataframe\">\n",
       "  <thead>\n",
       "    <tr style=\"text-align: right;\">\n",
       "      <th></th>\n",
       "      <th>Price</th>\n",
       "      <th>Manufacturer</th>\n",
       "      <th>Model</th>\n",
       "      <th>Prod. year</th>\n",
       "      <th>Category</th>\n",
       "      <th>Fuel type</th>\n",
       "      <th>Engine volume</th>\n",
       "      <th>Mileage</th>\n",
       "      <th>Cylinders</th>\n",
       "      <th>Gear box type</th>\n",
       "      <th>Drive wheels</th>\n",
       "      <th>Color</th>\n",
       "      <th>Airbags</th>\n",
       "    </tr>\n",
       "  </thead>\n",
       "  <tbody>\n",
       "    <tr>\n",
       "      <th>0</th>\n",
       "      <td>25089</td>\n",
       "      <td>AUDI</td>\n",
       "      <td>100</td>\n",
       "      <td>2016</td>\n",
       "      <td>Jeep</td>\n",
       "      <td>Petrol</td>\n",
       "      <td>3.0</td>\n",
       "      <td>70782</td>\n",
       "      <td>6</td>\n",
       "      <td>Automatic</td>\n",
       "      <td>4x4</td>\n",
       "      <td>Black</td>\n",
       "      <td>12</td>\n",
       "    </tr>\n",
       "    <tr>\n",
       "      <th>1</th>\n",
       "      <td>10192</td>\n",
       "      <td>BMW</td>\n",
       "      <td>114</td>\n",
       "      <td>2018</td>\n",
       "      <td>Sedan</td>\n",
       "      <td>Petrol</td>\n",
       "      <td>2.0</td>\n",
       "      <td>38282</td>\n",
       "      <td>4</td>\n",
       "      <td>Automatic</td>\n",
       "      <td>4x4</td>\n",
       "      <td>White</td>\n",
       "      <td>12</td>\n",
       "    </tr>\n",
       "    <tr>\n",
       "      <th>2</th>\n",
       "      <td>8500</td>\n",
       "      <td>BMW</td>\n",
       "      <td>116</td>\n",
       "      <td>2008</td>\n",
       "      <td>Hatchback</td>\n",
       "      <td>Petrol</td>\n",
       "      <td>1.6</td>\n",
       "      <td>11111</td>\n",
       "      <td>2</td>\n",
       "      <td>Automatic</td>\n",
       "      <td>Rear</td>\n",
       "      <td>Red</td>\n",
       "      <td>6</td>\n",
       "    </tr>\n",
       "    <tr>\n",
       "      <th>3</th>\n",
       "      <td>18817</td>\n",
       "      <td>BMW</td>\n",
       "      <td>118</td>\n",
       "      <td>2010</td>\n",
       "      <td>Sedan</td>\n",
       "      <td>Diesel</td>\n",
       "      <td>2.0</td>\n",
       "      <td>197000</td>\n",
       "      <td>4</td>\n",
       "      <td>Manual</td>\n",
       "      <td>Front</td>\n",
       "      <td>Black</td>\n",
       "      <td>0</td>\n",
       "    </tr>\n",
       "    <tr>\n",
       "      <th>4</th>\n",
       "      <td>21012</td>\n",
       "      <td>BMW</td>\n",
       "      <td>128</td>\n",
       "      <td>2009</td>\n",
       "      <td>Coupe</td>\n",
       "      <td>Petrol</td>\n",
       "      <td>3.0</td>\n",
       "      <td>198000</td>\n",
       "      <td>6</td>\n",
       "      <td>Tiptronic</td>\n",
       "      <td>Rear</td>\n",
       "      <td>White</td>\n",
       "      <td>8</td>\n",
       "    </tr>\n",
       "  </tbody>\n",
       "</table>\n",
       "</div>"
      ],
      "text/plain": [
       "   Price Manufacturer Model  Prod. year   Category Fuel type  Engine volume  \\\n",
       "0  25089         AUDI   100        2016       Jeep    Petrol            3.0   \n",
       "1  10192          BMW   114        2018      Sedan    Petrol            2.0   \n",
       "2   8500          BMW   116        2008  Hatchback    Petrol            1.6   \n",
       "3  18817          BMW   118        2010      Sedan    Diesel            2.0   \n",
       "4  21012          BMW   128        2009      Coupe    Petrol            3.0   \n",
       "\n",
       "   Mileage  Cylinders Gear box type Drive wheels  Color  Airbags  \n",
       "0    70782          6     Automatic          4x4  Black       12  \n",
       "1    38282          4     Automatic          4x4  White       12  \n",
       "2    11111          2     Automatic         Rear    Red        6  \n",
       "3   197000          4        Manual        Front  Black        0  \n",
       "4   198000          6     Tiptronic         Rear  White        8  "
      ]
     },
     "execution_count": 3,
     "metadata": {},
     "output_type": "execute_result"
    }
   ],
   "source": [
    "carPricing = pd.DataFrame(pd.read_csv('car_price_prediction.csv'))\n",
    "carPricing.head()"
   ]
  },
  {
   "cell_type": "code",
   "execution_count": 4,
   "id": "13a624ca",
   "metadata": {},
   "outputs": [
    {
     "data": {
      "text/plain": [
       "9640"
      ]
     },
     "execution_count": 4,
     "metadata": {},
     "output_type": "execute_result"
    }
   ],
   "source": [
    "m = len(carPricing)\n",
    "m"
   ]
  },
  {
   "cell_type": "code",
   "execution_count": 5,
   "id": "ce7667c8",
   "metadata": {},
   "outputs": [],
   "source": [
    "df = pd.DataFrame(carPricing)\n",
    "column_names = df.columns.values"
   ]
  },
  {
   "cell_type": "code",
   "execution_count": 6,
   "id": "05d04aa6",
   "metadata": {},
   "outputs": [],
   "source": [
    "X1 = carPricing.iloc[:, 1:12].values\n",
    "Y1 = carPricing.iloc[:, 0].values"
   ]
  },
  {
   "cell_type": "code",
   "execution_count": 7,
   "id": "145d2bdd",
   "metadata": {},
   "outputs": [],
   "source": [
    "varlist_manu = ['Manufacturer']\n",
    "\n",
    "def binary_map(Manufacturer) :\n",
    "    return Manufacturer.map({'ACURA' : 0, 'ALFA ROMEO' : 1, 'ASTON MARTIN' : 2,\n",
    "            'AUDI' : 3, 'BENTLEY' : 4, 'BMW': 5, 'BUICK' : 6,\n",
    "            'CADILLAC' : 7, 'CHEVROLET' : 8, 'CHRYSLER' : 9,\n",
    "            'DODGE' : 10, 'FERRARI' : 11, 'FORD' : 12,'GMC' : 13,\n",
    "            'HONDA' : 14, 'HUMMER' : 15, 'HYUNDAI' : 16, 'INFINITI' : 17,\n",
    "            'JAGUAR' : 18, 'JEEP' : 19, 'KIA' : 20, 'LAMBORGHINI' : 21,\n",
    "            'LAND ROVER' : 22, 'LEXUS' : 23, 'LINCOLN' : 24, 'MASERATI' : 25,\n",
    "            'MAZDA' : 26, 'MERCEDES-BENZ' : 27, 'MERCURY' : 28, 'MINI' : 29,\n",
    "            'MITSUBISHI' : 30, 'NISSAN' : 31, 'OPEL' : 32, 'PONTIAC' : 33,\n",
    "            'PORSCHE' : 34, 'ROVER' : 35, 'SAAB' : 36, 'SATURN' : 37, \n",
    "            'SCION' : 38, 'SUBARU' : 39, 'SUZUKI' : 40, 'TESLA' : 41,\n",
    "            'TOYOTA' : 42, 'VOLKSWAGEN' : 43, 'VOLVO' : 44})\n",
    "\n",
    "carPricing[varlist_manu] = carPricing[varlist_manu].apply(binary_map)"
   ]
  },
  {
   "cell_type": "code",
   "execution_count": 8,
   "id": "01be2e4b",
   "metadata": {},
   "outputs": [],
   "source": [
    "varlist_model = ['Model']\n",
    "\n",
    "def binary_map (Model) :\n",
    "    return Model.map({'4Runner' : 1, '520 d xDrive Luxury' : 2,\n",
    "             '528 3.0' : 3, '528 i' : 4, '530 GT' : 5,\n",
    "             '535 i' : 6, '535 i xDrive' : 7, '535 M PAKET' : 8,\n",
    "             'A 170' : 9, 'A3' : 10, 'A3 4X4' : 11, 'A4' : 12,\n",
    "             'A4 premium' : 13, 'A5' : 14, 'A5 Sportback' : 15,\n",
    "             'A6' : 16, 'A6 Ð¡6' : 17, 'A6 QUATTRO' : 18, \n",
    "             'A7' : 19, 'Acadia' : 20, 'Accent' : 21, 'Accent GS' : 22,\n",
    "             'Accent SE' : 23, 'Accord' : 24, 'Altima' : 25, \n",
    "             'Alto Lapin' : 26, 'Aqua' : 27, 'Aqua G' : 28, \n",
    "             'Aqua G klas' : 29, 'Aqua g soft leather sele' : 30,\n",
    "             'Aqua HIBRID' : 31, 'Aqua L paketi' : 32, 'Aqua s' : 33,\n",
    "             'Aqua S' : 34, 'Aqua sport' : 35, 'Atenza' : 36, 'ATS' : 37, \n",
    "             'Auris' : 38, 'Avalanche' : 39, 'Avalon' : 40, \n",
    "             'Avalon limited' : 41, 'Avalon LIMITED' : 42, \n",
    "             'Avalon Limited' : 43, 'Avella' : 44, 'Avenger' : 45,\n",
    "             'Aveo' : 46, 'Axela' : 47, 'Azera' : 48, 'B 170' : 49,\n",
    "             'B 170 Edition One' : 50, 'B 180' : 51, 'B 200' : 52,\n",
    "             'B9 Tribeca' : 53, 'Belta' : 54, 'BRZ' : 55, 'C 180' : 56,\n",
    "             'C 200' : 57, 'C 230' : 58, 'C 250' : 59, 'C 300' : 60,\n",
    "             'C 300 sport' : 61, 'C 320' : 62, 'C 320 CDI' : 63, \n",
    "             'C 350' : 64, 'C 400' : 65, 'C 63 AMG' : 66, 'Caddy' : 67,\n",
    "             'Cadenza' : 68, 'Caliber' : 69, 'Caliber journey' : 70,\n",
    "             'Caliber sxt' : 71, 'Camaro' : 72, 'Camaro LS' : 73,\n",
    "             'Camaro RS' : 74, 'Camry' : 75, 'Camry Hybrid' : 76, \n",
    "             'Camry HYBRID' : 77, 'Camry LE' : 78, 'Camry Le' : 79, \n",
    "             'Camry S' : 80, 'Camry SE' : 81, 'Camry se' : 82,\n",
    "             'Camry SE HIBRYD' : 83, 'Camry sel' : 84, 'Camry sport' : 85,\n",
    "             'Camry SPORT' : 86, 'Camry SPORT PAKET' : 87, 'Camry sport se' : 88,\n",
    "             'Camry sporti' : 89, 'Camry XLE' : 90, 'Camry XLEi' : 91, \n",
    "             'Camry XSE' : 92, 'Camry XV50' : 93, 'Captiva' : 94, 'Caravan' : 95,\n",
    "             'Caravan tradesman' : 96, 'Carens' : 97, 'Carnival' : 98,\n",
    "             'Carnival grand' : 99, 'Cayenne' : 100, 'CC' : 101, 'Ceed' : 102,\n",
    "             'Century' : 103, 'Cerato' : 104, 'CERVO' : 105, 'Challenger' : 106,\n",
    "             'Cherokee' : 107, 'CHR' : 108, 'Civic' : 109, 'Civic EX' : 110,\n",
    "             'Civic Hybrid' : 111, 'CL550 AMG' : 112, 'CLA 250' : 113, 'CLK 350' : 114,\n",
    "             'CLS 350 AMG' : 115, 'CLS 55 AMG' : 116, 'CLS 550' : 117, \n",
    "             'CLS 550 550' : 118, 'C-MAX' : 119, 'Colt' : 120, 'ColtPlus' : 121,\n",
    "             'Compass' : 122, 'Corolla' : 123, 'Corolla 04' : 124, 'Corolla ECO' : 125,\n",
    "             'Corolla IM' : 126, 'Corolla Im' : 127, 'Corolla LE' : 128, 'Corolla S' : 129,\n",
    "             'Corolla se' : 130, 'Corvette' : 131, 'Courier' : 132, 'Crafter' : 133,\n",
    "             'Crafter 2,5TDI' : 134, 'Crossroad' : 135, 'Crosstour' : 136,\n",
    "             'Crosstrek' : 137, 'Cruze' : 138, 'Cruze L T' : 139, 'Cr-v' : 140, \n",
    "             'CR-Z' : 141, 'CT 200h' : 142, 'CT 200h 1.8' : 143, 'CT 200h F sport' : 144,\n",
    "             'CT 200h F SPORT' : 145, 'CT 200h F-sport' : 146, 'CX-3' : 147,\n",
    "             'CX-5' : 148, 'CX-5 Touring' : 149, 'CX-7' : 150, 'CX-9' : 151,\n",
    "             'Daimler' : 152, 'Dart' : 153, 'Dart GT 2.4' : 154, 'Delica' : 155,\n",
    "             'Demio' : 156, 'Discovery' : 157, 'DTS' : 158, 'E 200' : 159, 'E 220' : 160,\n",
    "             'E 250' : 161, 'E 300' : 162, 'E 300 AVANTGARDE-LTD' : 163, 'E 320' : 164, \n",
    "             'E 350' : 165, 'E 350 212' : 166, 'E 350 4 matic' : 167, 'E 350 4 MATIC' : 168,\n",
    "             'E 350 4 Matic AMG Packag' : 169, 'E 350 AMG' : 170, 'E 400' : 171,\n",
    "             'E 550' : 172, 'Edge' : 173, 'Elantra' : 174, 'Elantra GS' : 175,\n",
    "             'Elantra limited' : 176, 'Elantra Limited' : 177, 'Elantra LIMITED' : 178,\n",
    "             'Elantra SE' : 179, 'Elantra Se' : 180, 'Elantra se' : 181, 'Element' : 182,\n",
    "             'Elysion' : 183, 'Encore' : 184, 'Eos' : 185, 'E-pace' : 186, 'Equinox' : 187,\n",
    "             'ES 300' : 188, 'ES 300 hybrid' : 189, 'ES 350' : 190, 'Escalade' : 191,\n",
    "             'Escape' : 192, 'Escape Hybrid' : 193, 'Explorer' : 194, 'F150' : 195,\n",
    "             'F50' : 196, 'Fiesta' : 197, 'FIT' : 198, 'FIT Hybrid' : 199, \n",
    "             'FIT Modulo' : 200, 'FJ Cruiser' : 201, 'Focus' : 202, 'Focus SE' : 203,\n",
    "             'Focus Titanium' : 204, 'Forester' : 205, 'Forte' : 206, 'Fortuner' : 207,\n",
    "             'F-pace' : 208, 'Fred' : 209, 'Frontier' : 210, 'F-type' : 211, 'Fusion' : 212,\n",
    "             'Fusion HIBRID' : 213, 'Fusion SE' : 214, 'FX35' : 215, 'G 550' : 216,\n",
    "             'G 63 AMG' : 217, 'G35 x' : 218, 'G37' : 219, 'G6' : 220, 'Genesis' : 221,\n",
    "             'Getz' : 222, 'Ghibli' : 223, 'GL 320' : 224, 'GL 350' : 225, 'GL 450' : 226,\n",
    "             'GL 550': 227, 'GLA 250' : 228, 'GLE 350' : 229, 'GLK 350' : 230, 'Golf' : 231,\n",
    "             'Grand Cherokee' : 232, 'Grand Vitara' : 233, 'Grandeur' : 234, 'Grandis' : 235,\n",
    "             'GS 350' : 236, 'GTI' : 237, 'GX 460' : 238, 'GX 470' : 239, 'H1' : 240,\n",
    "             'H3' : 241, 'Highlander' : 242, 'Highlander LIMITED' : 243,\n",
    "             'Highlander sport' : 244, 'Hilux' : 245, 'Hr-v' : 246, 'HS 250h' : 247,\n",
    "             'I' : 248, 'i3' : 249, 'I30' : 250, 'Impala' : 251, 'Impreza' : 252, \n",
    "             'Insight' : 253, 'Insight EX' : 254, 'Ipsum' : 255, 'IS 200' :256, \n",
    "             'IS 250' : 257, 'IS 300' : 258, 'IS 350' : 259, 'ISIS' : 260, 'Ist' : 261, \n",
    "             'IX35' : 262, 'Jetta' : 263, 'Jetta SE' : 264, 'Juke' : 265, 'JX35' : 266, \n",
    "             'Kalos' : 267, 'Kicks' : 268, 'Kizashi' : 269, 'kona' : 270, 'L 200' : 271,\n",
    "             'Lacetti' : 272, 'LAFESTA' :273, 'Lancer' : 274, 'Land Cruiser' : 275,\n",
    "             'Land Rover Sport' : 276, 'Lantra' : 277, 'Leaf' : 278, 'Legacy' : 279,\n",
    "             'Liberty' : 280, 'LS 460' : 281, 'LX 570' : 282, 'M3' : 283, 'M37' : 284, \n",
    "             'M4' : 285, 'M5' : 286, 'M6' : 287, 'macan' : 288, 'Malibu' : 289, 'March' : 290,\n",
    "             'Matiz' : 291, 'Maxima' : 292, 'Mazda 2' : 293, 'Mazda 3' : 294, 'Mazda 5' : 295,\n",
    "             'Mazda 6' : 296, 'MDX' : 297, 'Mirage' : 298, 'MKZ' :299, 'ML 250' : 300,\n",
    "             'ML 280' : 301, 'ML 300' : 302, 'ML 320' : 303, 'ML 350' : 304, 'Model X' : 305,\n",
    "             'Mulsanne' : 306, 'Murano' : 307, 'Mustang' : 308, 'Navara' : 309,\n",
    "             'NEW Beetle' : 310, 'Niro' : 311, 'Niva' : 312, 'Note' : 313, 'NX 200' : 314,\n",
    "             'NX 300' : 315, 'Odyssey' : 316, 'Optima' : 317, 'Optima Hybid' : 318,\n",
    "             'Optima k5' : 319, 'Orlando' : 320, 'Outlander' : 321, 'Outlander Sport' : 322,\n",
    "             'Pacifica' : 323, 'Pajero' : 324, 'Panamera' : 325, 'Panamera S' : 326,\n",
    "             'Passat' : 327, 'Passo' : 328, 'Pathfinder' : 329, 'Patriot' : 330,\n",
    "             'Phaeton' : 331, 'Picanto' : 332, 'Pilot' : 333, 'Polo' : 334, 'Prius' : 335,\n",
    "             'Prius C' : 336, 'Prius Plug in' : 337, 'Prius s' : 338, 'Prius V' : 339,\n",
    "             'Q3' : 340, 'Q5' : 341, 'Q50 S Red' : 342, 'Q7' : 343, 'Qashqai SPORT' : 344,\n",
    "             'Quest' : 345, 'QX56' : 346, 'R 350' : 347, 'Ractis' : 348, 'Ramcharger' : 349,\n",
    "             'Range Rover' : 350, 'RAV 4' : 351, 'RC F' : 352, 'RDX' : 353, 'Renegade' : 354,\n",
    "             'Ridgeline' : 355, 'RIO' : 356, 'Rogue' : 357, 'Routan SEL' : 358, 'RS6' : 359,\n",
    "             'RVR' : 360, 'RX 300' : 361, 'RX 350' : 362, 'RX 400' : 363,\n",
    "             'RX 400 HYBRID' : 364, 'RX 450' : 365, 'RX 450 HYBRID' : 366, 'S 350' : 367,\n",
    "             'S 500' : 368, 'S 550' : 369, 'S3' : 370, 'Scirocco' : 371, 'Sentra' : 372,\n",
    "             'Sequoia' : 373, 'Serena' : 374, 'Sharan' : 375, 'Shuttle' : 376, \n",
    "             'Sienna' : 377, 'Silverado' : 378, 'Skyline' : 379, 'SL 55 AMG' : 380,\n",
    "             'Sonata' : 381, 'Sonata Hybrid' : 382, 'Sonata Limited' : 383, \n",
    "             'Sonata SPORT' : 384, 'Sonic' : 385, 'Sorento' : 386, 'SOUL' : 387,\n",
    "             'Spark' : 388, 'Sportage' : 389, 'Sprinter' : 390, 'SRX' : 391, 'Stella' : 392,\n",
    "             'Step Wagon' : 393, 'Suburban' : 394, 'Swift' : 395, 'SX4' : 396, 'T5' : 397,\n",
    "             'Tacoma' : 398, 'Taurus' : 399, 'tC' : 400, 'Teana' : 401, 'TERRAIN' : 402,\n",
    "             'Tiguan' : 403, 'Tiida' : 404, 'TLX' : 405, 'Tourneo Connect' : 406,\n",
    "             'Town and Country' : 407, 'Transit' : 408, 'Transit Connect' : 409,\n",
    "             'Traverse' : 410, 'Trax' : 411, 'TSX' : 412, 'Tucson' : 413,\n",
    "             'Tucson SE' : 414, 'Tundra' : 415, 'UP' : 416, 'Veloster' : 417, \n",
    "             'Venza' : 418, 'Verisa' : 419, 'Versa' : 420, 'Verso' : 421, 'Viano' : 422,\n",
    "             'Virage': 423, 'Vito' : 424, 'Vitz' : 425, 'Volt' : 426, 'VOXY' : 427, \n",
    "             'Vue' : 428, 'Wrangler' : 429, 'X1' : 430, 'X3' : 431, 'X4' : 432, 'X5' : 433, \n",
    "             'X6' : 434, 'XC90' : 435, 'xD' : 436, 'XF' : 437, 'X-Terra' : 438, 'XV' : 439,\n",
    "             'Yaris' : 440, '100' : 441, '114' : 442, '116' : 443, '118': 444, '128' : 445, \n",
    "             '130' : 446, '135' : 447, '200' : 448, '250' : 449, '300' : 450, '320' : 451,\n",
    "             '325' : 452, '328' : 453, '330' : 454, '335' : 455, '428' : 456, '435' : 457,\n",
    "             '456' : 458, '528' : 459, '530' : 460, '535' : 461, '550' : 462, '616' : 463,\n",
    "             '650' : 464, '730': 465, '740': 466, '911' : 467, '1000' : 468, '1300' : 469,\n",
    "             '1500' : 470, '4Runner LIMITED' : 471, 'A8' : 472, 'Camry Se' : 473,\n",
    "             'Cayman' : 474, 'CLS 350' : 475, 'Cruze LT' : 476, 'Discovery IV' : 477,\n",
    "             'Elantra LIMITEDI' : 478, 'Outback' : 479, 'Sienta' : 480, 'Vitara' : 481,\n",
    "             'A6 С6' : 482})\n",
    "\n",
    "carPricing[varlist_model] = carPricing[varlist_model].apply(binary_map)\n"
   ]
  },
  {
   "cell_type": "code",
   "execution_count": 9,
   "id": "c8f4bca8",
   "metadata": {},
   "outputs": [],
   "source": [
    "varlist_drWheels = ['Drive wheels']\n",
    "\n",
    "def binary_map(DriveWheels) :\n",
    "    return DriveWheels.map({'4x4' : 1, 'Front' : 2, 'Rear' : 3})\n",
    "\n",
    "carPricing[varlist_drWheels] = carPricing[varlist_drWheels].apply(binary_map)"
   ]
  },
  {
   "cell_type": "code",
   "execution_count": 10,
   "id": "60ac197c",
   "metadata": {},
   "outputs": [],
   "source": [
    "varlist_gearbox = ['Gear box type']\n",
    "\n",
    "def binary_map (GearBoxType) :\n",
    "    return GearBoxType.map({'Automatic' : 1, 'Manual' : 2,\n",
    "                             'Tiptronic' : 3, 'Variator' : 4})\n",
    "carPricing[varlist_gearbox] = carPricing[varlist_gearbox].apply(binary_map)\n"
   ]
  },
  {
   "cell_type": "code",
   "execution_count": 11,
   "id": "de8e8dd7",
   "metadata": {},
   "outputs": [],
   "source": [
    "varlist_fueltype = ['Fuel type']\n",
    "\n",
    "def binary_map(FuelType) :\n",
    "    return FuelType.map({'CNG' : 1, 'Diesel' : 2, 'Hybrid' : 3,\n",
    "                        'LPG' : 4, 'Petrol' : 5, 'Plug-in Hybrid' : 6})\n",
    "\n",
    "carPricing[varlist_fueltype] = carPricing[varlist_fueltype].apply(binary_map)"
   ]
  },
  {
   "cell_type": "code",
   "execution_count": 12,
   "id": "84cbd68c",
   "metadata": {},
   "outputs": [],
   "source": [
    "varlist_color = ['Color']\n",
    "\n",
    "def binary_map(color) :\n",
    "    return color.map({'Beige' : 1, 'Black' : 2, 'Blue' : 3,\n",
    "                    'Brown' : 4, 'Carnelian red' : 5, 'Golden' : 6, \n",
    "                    'Green' : 7, 'Grey' : 8, 'Orange' : 9, 'Pink' : 10,\n",
    "                    'Purple' : 11, 'Red' : 12, 'Silver' : 13, \n",
    "                    'Sky blue' : 14, 'White' : 15, 'Yellow' : 16})\n",
    "\n",
    "carPricing[varlist_color] = carPricing[varlist_color].apply(binary_map)\n"
   ]
  },
  {
   "cell_type": "code",
   "execution_count": 13,
   "id": "0ef24948",
   "metadata": {},
   "outputs": [],
   "source": [
    "varlist_category = ['Category']\n",
    "\n",
    "def binary_map (category) :\n",
    "    return category.map({'Cabriolet' : 1, 'Coupe' : 2,\n",
    "                        'Goods wagon' : 3, 'Hatchback' : 4, 'Jeep' : 5,\n",
    "                        'Minivan' : 6, 'Microbus' : 7, 'Pickup' : 8,\n",
    "                        'Sedan' : 9, 'Universal' : 10})\n",
    "\n",
    "carPricing[varlist_category] = carPricing[varlist_category].apply(binary_map)\n"
   ]
  },
  {
   "cell_type": "code",
   "execution_count": 14,
   "id": "5795a238",
   "metadata": {},
   "outputs": [
    {
     "data": {
      "text/plain": [
       "(7712, 13)"
      ]
     },
     "execution_count": 14,
     "metadata": {},
     "output_type": "execute_result"
    }
   ],
   "source": [
    "from sklearn.model_selection import train_test_split\n",
    "np.random.seed(0)\n",
    "df_train, df_test =train_test_split(carPricing, train_size = 0.8, test_size = 0.2)\n",
    "df_train.shape"
   ]
  },
  {
   "cell_type": "code",
   "execution_count": 15,
   "id": "1ce3d7bd",
   "metadata": {},
   "outputs": [
    {
     "data": {
      "text/html": [
       "<div>\n",
       "<style scoped>\n",
       "    .dataframe tbody tr th:only-of-type {\n",
       "        vertical-align: middle;\n",
       "    }\n",
       "\n",
       "    .dataframe tbody tr th {\n",
       "        vertical-align: top;\n",
       "    }\n",
       "\n",
       "    .dataframe thead th {\n",
       "        text-align: right;\n",
       "    }\n",
       "</style>\n",
       "<table border=\"1\" class=\"dataframe\">\n",
       "  <thead>\n",
       "    <tr style=\"text-align: right;\">\n",
       "      <th></th>\n",
       "      <th>Price</th>\n",
       "      <th>Manufacturer</th>\n",
       "      <th>Model</th>\n",
       "      <th>Prod. year</th>\n",
       "      <th>Category</th>\n",
       "      <th>Fuel type</th>\n",
       "      <th>Engine volume</th>\n",
       "      <th>Mileage</th>\n",
       "      <th>Cylinders</th>\n",
       "    </tr>\n",
       "  </thead>\n",
       "  <tbody>\n",
       "    <tr>\n",
       "      <th>6608</th>\n",
       "      <td>21953</td>\n",
       "      <td>42</td>\n",
       "      <td>335</td>\n",
       "      <td>2013</td>\n",
       "      <td>9</td>\n",
       "      <td>3</td>\n",
       "      <td>1.8</td>\n",
       "      <td>105600</td>\n",
       "      <td>4</td>\n",
       "    </tr>\n",
       "    <tr>\n",
       "      <th>725</th>\n",
       "      <td>20385</td>\n",
       "      <td>27</td>\n",
       "      <td>62</td>\n",
       "      <td>2009</td>\n",
       "      <td>9</td>\n",
       "      <td>5</td>\n",
       "      <td>3.5</td>\n",
       "      <td>200000</td>\n",
       "      <td>6</td>\n",
       "    </tr>\n",
       "    <tr>\n",
       "      <th>1733</th>\n",
       "      <td>45204</td>\n",
       "      <td>14</td>\n",
       "      <td>109</td>\n",
       "      <td>2016</td>\n",
       "      <td>2</td>\n",
       "      <td>5</td>\n",
       "      <td>2.0</td>\n",
       "      <td>53938</td>\n",
       "      <td>4</td>\n",
       "    </tr>\n",
       "    <tr>\n",
       "      <th>1019</th>\n",
       "      <td>5488</td>\n",
       "      <td>42</td>\n",
       "      <td>75</td>\n",
       "      <td>2014</td>\n",
       "      <td>9</td>\n",
       "      <td>3</td>\n",
       "      <td>2.5</td>\n",
       "      <td>109798</td>\n",
       "      <td>4</td>\n",
       "    </tr>\n",
       "    <tr>\n",
       "      <th>4884</th>\n",
       "      <td>36567</td>\n",
       "      <td>16</td>\n",
       "      <td>240</td>\n",
       "      <td>2016</td>\n",
       "      <td>6</td>\n",
       "      <td>2</td>\n",
       "      <td>2.5</td>\n",
       "      <td>104112</td>\n",
       "      <td>4</td>\n",
       "    </tr>\n",
       "  </tbody>\n",
       "</table>\n",
       "</div>"
      ],
      "text/plain": [
       "      Price  Manufacturer  Model  Prod. year  Category  Fuel type  \\\n",
       "6608  21953            42    335        2013         9          3   \n",
       "725   20385            27     62        2009         9          5   \n",
       "1733  45204            14    109        2016         2          5   \n",
       "1019   5488            42     75        2014         9          3   \n",
       "4884  36567            16    240        2016         6          2   \n",
       "\n",
       "      Engine volume  Mileage  Cylinders  \n",
       "6608            1.8   105600          4  \n",
       "725             3.5   200000          6  \n",
       "1733            2.0    53938          4  \n",
       "1019            2.5   109798          4  \n",
       "4884            2.5   104112          4  "
      ]
     },
     "execution_count": 15,
     "metadata": {},
     "output_type": "execute_result"
    }
   ],
   "source": [
    "num_vars = ['Price', 'Manufacturer', 'Model', 'Prod. year', 'Category', 'Fuel type',\n",
    "            'Engine volume', 'Mileage', 'Cylinders']\n",
    "df_Newtrain = df_train[num_vars]\n",
    "df_Newtest = df_test[num_vars]\n",
    "df_Newtrain.head()"
   ]
  },
  {
   "cell_type": "code",
   "execution_count": 16,
   "id": "8f90989f",
   "metadata": {},
   "outputs": [
    {
     "data": {
      "text/html": [
       "<div>\n",
       "<style scoped>\n",
       "    .dataframe tbody tr th:only-of-type {\n",
       "        vertical-align: middle;\n",
       "    }\n",
       "\n",
       "    .dataframe tbody tr th {\n",
       "        vertical-align: top;\n",
       "    }\n",
       "\n",
       "    .dataframe thead th {\n",
       "        text-align: right;\n",
       "    }\n",
       "</style>\n",
       "<table border=\"1\" class=\"dataframe\">\n",
       "  <thead>\n",
       "    <tr style=\"text-align: right;\">\n",
       "      <th></th>\n",
       "      <th>Price</th>\n",
       "      <th>Manufacturer</th>\n",
       "      <th>Model</th>\n",
       "      <th>Prod. year</th>\n",
       "      <th>Category</th>\n",
       "      <th>Fuel type</th>\n",
       "      <th>Engine volume</th>\n",
       "      <th>Mileage</th>\n",
       "      <th>Cylinders</th>\n",
       "      <th>Gear box type</th>\n",
       "      <th>Drive wheels</th>\n",
       "      <th>Color</th>\n",
       "      <th>Airbags</th>\n",
       "    </tr>\n",
       "  </thead>\n",
       "  <tbody>\n",
       "    <tr>\n",
       "      <th>6608</th>\n",
       "      <td>21953</td>\n",
       "      <td>42</td>\n",
       "      <td>335</td>\n",
       "      <td>2013</td>\n",
       "      <td>9</td>\n",
       "      <td>3</td>\n",
       "      <td>1.8</td>\n",
       "      <td>105600</td>\n",
       "      <td>4</td>\n",
       "      <td>1</td>\n",
       "      <td>2</td>\n",
       "      <td>2</td>\n",
       "      <td>10</td>\n",
       "    </tr>\n",
       "    <tr>\n",
       "      <th>725</th>\n",
       "      <td>20385</td>\n",
       "      <td>27</td>\n",
       "      <td>62</td>\n",
       "      <td>2009</td>\n",
       "      <td>9</td>\n",
       "      <td>5</td>\n",
       "      <td>3.5</td>\n",
       "      <td>200000</td>\n",
       "      <td>6</td>\n",
       "      <td>3</td>\n",
       "      <td>3</td>\n",
       "      <td>1</td>\n",
       "      <td>0</td>\n",
       "    </tr>\n",
       "    <tr>\n",
       "      <th>1733</th>\n",
       "      <td>45204</td>\n",
       "      <td>14</td>\n",
       "      <td>109</td>\n",
       "      <td>2016</td>\n",
       "      <td>2</td>\n",
       "      <td>5</td>\n",
       "      <td>2.0</td>\n",
       "      <td>53938</td>\n",
       "      <td>4</td>\n",
       "      <td>1</td>\n",
       "      <td>2</td>\n",
       "      <td>3</td>\n",
       "      <td>4</td>\n",
       "    </tr>\n",
       "    <tr>\n",
       "      <th>1019</th>\n",
       "      <td>5488</td>\n",
       "      <td>42</td>\n",
       "      <td>75</td>\n",
       "      <td>2014</td>\n",
       "      <td>9</td>\n",
       "      <td>3</td>\n",
       "      <td>2.5</td>\n",
       "      <td>109798</td>\n",
       "      <td>4</td>\n",
       "      <td>1</td>\n",
       "      <td>2</td>\n",
       "      <td>15</td>\n",
       "      <td>12</td>\n",
       "    </tr>\n",
       "    <tr>\n",
       "      <th>4884</th>\n",
       "      <td>36567</td>\n",
       "      <td>16</td>\n",
       "      <td>240</td>\n",
       "      <td>2016</td>\n",
       "      <td>6</td>\n",
       "      <td>2</td>\n",
       "      <td>2.5</td>\n",
       "      <td>104112</td>\n",
       "      <td>4</td>\n",
       "      <td>1</td>\n",
       "      <td>2</td>\n",
       "      <td>15</td>\n",
       "      <td>4</td>\n",
       "    </tr>\n",
       "  </tbody>\n",
       "</table>\n",
       "</div>"
      ],
      "text/plain": [
       "      Price  Manufacturer  Model  Prod. year  Category  Fuel type  \\\n",
       "6608  21953            42    335        2013         9          3   \n",
       "725   20385            27     62        2009         9          5   \n",
       "1733  45204            14    109        2016         2          5   \n",
       "1019   5488            42     75        2014         9          3   \n",
       "4884  36567            16    240        2016         6          2   \n",
       "\n",
       "      Engine volume  Mileage  Cylinders  Gear box type  Drive wheels  Color  \\\n",
       "6608            1.8   105600          4              1             2      2   \n",
       "725             3.5   200000          6              3             3      1   \n",
       "1733            2.0    53938          4              1             2      3   \n",
       "1019            2.5   109798          4              1             2     15   \n",
       "4884            2.5   104112          4              1             2     15   \n",
       "\n",
       "      Airbags  \n",
       "6608       10  \n",
       "725         0  \n",
       "1733        4  \n",
       "1019       12  \n",
       "4884        4  "
      ]
     },
     "execution_count": 16,
     "metadata": {},
     "output_type": "execute_result"
    }
   ],
   "source": [
    "import warnings\n",
    "warnings. filterwarnings('ignore')\n",
    "from sklearn. preprocessing import MinMaxScaler, StandardScaler\n",
    "\n",
    "#scaler = StandardScaler()\n",
    "scaler = MinMaxScaler()\n",
    "df_Newtrain[num_vars] = scaler.fit_transform(df_Newtrain[num_vars])\n",
    "df_Newtest[num_vars] = scaler.fit_transform(df_Newtest[num_vars])\n",
    "df_train.head()"
   ]
  },
  {
   "cell_type": "code",
   "execution_count": 17,
   "id": "13a5ac49",
   "metadata": {},
   "outputs": [],
   "source": [
    "X_train1 = df_Newtrain.values[:, 1:12]\n",
    "Y_train1 = df_Newtrain.values[:,0]\n",
    "X_test1 = df_Newtest.values[:, 1:12]\n",
    "Y_test1 = df_Newtest.values[:,0]"
   ]
  },
  {
   "cell_type": "code",
   "execution_count": 18,
   "id": "228220f8",
   "metadata": {},
   "outputs": [
    {
     "data": {
      "text/plain": [
       "(7712, 8)"
      ]
     },
     "execution_count": 18,
     "metadata": {},
     "output_type": "execute_result"
    }
   ],
   "source": [
    "X_train1.shape"
   ]
  },
  {
   "cell_type": "code",
   "execution_count": 19,
   "id": "42538e17",
   "metadata": {
    "scrolled": true
   },
   "outputs": [
    {
     "data": {
      "text/plain": [
       "(1928, 8)"
      ]
     },
     "execution_count": 19,
     "metadata": {},
     "output_type": "execute_result"
    }
   ],
   "source": [
    "X_test1.shape"
   ]
  },
  {
   "cell_type": "code",
   "execution_count": 20,
   "id": "09154bb8",
   "metadata": {},
   "outputs": [],
   "source": [
    "#Now we’ll do feature scaling to scale our data between 0 and 1 to get better accuracy.\n",
    " \n",
    "from sklearn.preprocessing import StandardScaler \n",
    "sc_X1 = StandardScaler() \n",
    "X_train = sc_X1.fit_transform(X_train1) \n",
    "X_test = sc_X1.transform(X_test1)"
   ]
  },
  {
   "cell_type": "code",
   "execution_count": 21,
   "id": "1c18745a",
   "metadata": {},
   "outputs": [],
   "source": [
    "#Lets create a matrix with single column of ones \n",
    "X_01 = np.ones((7712, 1)) \n",
    "X_02 = np.ones((1928, 1))"
   ]
  },
  {
   "cell_type": "code",
   "execution_count": 22,
   "id": "f117968a",
   "metadata": {},
   "outputs": [],
   "source": [
    "# Using reshape function convert X 1D array to 2D array of dimension 97x1 \n",
    "X_N1 = X_train1.reshape(7712, 8) \n",
    "X_N2 = X_test1.reshape(1928, 8)"
   ]
  },
  {
   "cell_type": "code",
   "execution_count": 23,
   "id": "b899105c",
   "metadata": {},
   "outputs": [],
   "source": [
    "X_train1 = np.hstack((X_01, X_N1)) \n",
    "X_test1 = np.hstack((X_02, X_N2))"
   ]
  },
  {
   "cell_type": "code",
   "execution_count": 24,
   "id": "285d7991",
   "metadata": {},
   "outputs": [
    {
     "data": {
      "text/plain": [
       "(7712, 9)"
      ]
     },
     "execution_count": 24,
     "metadata": {},
     "output_type": "execute_result"
    }
   ],
   "source": [
    "X_train1.shape"
   ]
  },
  {
   "cell_type": "code",
   "execution_count": 25,
   "id": "8b414d58",
   "metadata": {},
   "outputs": [
    {
     "data": {
      "text/plain": [
       "(7712,)"
      ]
     },
     "execution_count": 25,
     "metadata": {},
     "output_type": "execute_result"
    }
   ],
   "source": [
    "theta = np.zeros(9) \n",
    "theta\n",
    "Y_train1.shape"
   ]
  },
  {
   "cell_type": "code",
   "execution_count": 26,
   "id": "5f30e3d2",
   "metadata": {},
   "outputs": [],
   "source": [
    "def compute_cost(X, Y, theta): \n",
    "    predictions = X.dot(theta) \n",
    "    errors = np.subtract(predictions, Y) \n",
    "    sqrErrors = np.square(errors) \n",
    "    J = 1 / (2 * m) * np.sum(sqrErrors) \n",
    "\n",
    "    return J"
   ]
  },
  {
   "cell_type": "code",
   "execution_count": 27,
   "id": "46dfa8b4",
   "metadata": {},
   "outputs": [],
   "source": [
    "def gradient_descent(X, X2, Y ,Y2, theta, alpha, iterations):\n",
    "    cost_history = np.zeros(iterations) \n",
    "    cost_history2 = np.zeros(iterations) \n",
    "\n",
    "    for i in range(iterations): \n",
    "        predictions = X.dot(theta) \n",
    "        errors = np.subtract(predictions, Y) \n",
    "        sum_delta = (alpha / m) * X.transpose().dot(errors); \n",
    "        theta = theta - sum_delta; \n",
    "        cost_history[i] = compute_cost(X, Y, theta)   \n",
    "        cost_history2[i] = compute_cost(X2, Y2, theta)\n",
    "    return theta, cost_history, cost_history2"
   ]
  },
  {
   "cell_type": "code",
   "execution_count": 28,
   "id": "cf1b121f",
   "metadata": {},
   "outputs": [],
   "source": [
    "iterations = 8000; \n",
    "alpha = 0.1;"
   ]
  },
  {
   "cell_type": "code",
   "execution_count": 29,
   "id": "5bda602d",
   "metadata": {},
   "outputs": [
    {
     "name": "stdout",
     "output_type": "stream",
     "text": [
      "Final value of theta = [ 0.00772406 -0.00256079  0.00777261  0.06448992 -0.01776626 -0.00471267\n",
      "  0.16932089 -0.06061433  0.10813026]\n",
      "cost_history = 0.0008012047365400666 0.0009709466146530722\n"
     ]
    }
   ],
   "source": [
    "theta, cost_history_a, cost_history2_a = gradient_descent(X_train1, X_test1, Y_train1, Y_test1, theta, alpha, iterations) \n",
    "print('Final value of theta =', theta) \n",
    "print('cost_history =', cost_history_a[-1], cost_history2_a[-1])"
   ]
  },
  {
   "cell_type": "code",
   "execution_count": 30,
   "id": "c5379f63",
   "metadata": {},
   "outputs": [
    {
     "data": {
      "text/plain": [
       "[<matplotlib.lines.Line2D at 0x182e6d05bb0>]"
      ]
     },
     "execution_count": 30,
     "metadata": {},
     "output_type": "execute_result"
    },
    {
     "data": {
      "image/png": "[encoded data removed]",
      "text/plain": [
       "<Figure size 640x480 with 1 Axes>"
      ]
     },
     "metadata": {},
     "output_type": "display_data"
    }
   ],
   "source": [
    "plt.plot(cost_history_a, label = \"line 1\")\n",
    "plt.plot(cost_history2_a, label = \"line 2\")"
   ]
  },
  {
   "cell_type": "code",
   "execution_count": 39,
   "id": "1c38147b",
   "metadata": {},
   "outputs": [
    {
     "data": {
      "text/html": [
       "<div>\n",
       "<style scoped>\n",
       "    .dataframe tbody tr th:only-of-type {\n",
       "        vertical-align: middle;\n",
       "    }\n",
       "\n",
       "    .dataframe tbody tr th {\n",
       "        vertical-align: top;\n",
       "    }\n",
       "\n",
       "    .dataframe thead th {\n",
       "        text-align: right;\n",
       "    }\n",
       "</style>\n",
       "<table border=\"1\" class=\"dataframe\">\n",
       "  <thead>\n",
       "    <tr style=\"text-align: right;\">\n",
       "      <th></th>\n",
       "      <th>Price</th>\n",
       "      <th>Manufacturer</th>\n",
       "      <th>Model</th>\n",
       "      <th>Prod. year</th>\n",
       "      <th>Category</th>\n",
       "      <th>Fuel type</th>\n",
       "      <th>Engine volume</th>\n",
       "      <th>Mileage</th>\n",
       "      <th>Cylinders</th>\n",
       "      <th>Gear box type</th>\n",
       "      <th>Drive wheels</th>\n",
       "      <th>Color</th>\n",
       "      <th>Airbags</th>\n",
       "    </tr>\n",
       "  </thead>\n",
       "  <tbody>\n",
       "    <tr>\n",
       "      <th>0</th>\n",
       "      <td>25089</td>\n",
       "      <td>3</td>\n",
       "      <td>441</td>\n",
       "      <td>2016</td>\n",
       "      <td>5</td>\n",
       "      <td>5</td>\n",
       "      <td>3.0</td>\n",
       "      <td>70782</td>\n",
       "      <td>6</td>\n",
       "      <td>1</td>\n",
       "      <td>1</td>\n",
       "      <td>2</td>\n",
       "      <td>12</td>\n",
       "    </tr>\n",
       "    <tr>\n",
       "      <th>1</th>\n",
       "      <td>10192</td>\n",
       "      <td>5</td>\n",
       "      <td>442</td>\n",
       "      <td>2018</td>\n",
       "      <td>9</td>\n",
       "      <td>5</td>\n",
       "      <td>2.0</td>\n",
       "      <td>38282</td>\n",
       "      <td>4</td>\n",
       "      <td>1</td>\n",
       "      <td>1</td>\n",
       "      <td>15</td>\n",
       "      <td>12</td>\n",
       "    </tr>\n",
       "    <tr>\n",
       "      <th>2</th>\n",
       "      <td>8500</td>\n",
       "      <td>5</td>\n",
       "      <td>443</td>\n",
       "      <td>2008</td>\n",
       "      <td>4</td>\n",
       "      <td>5</td>\n",
       "      <td>1.6</td>\n",
       "      <td>11111</td>\n",
       "      <td>2</td>\n",
       "      <td>1</td>\n",
       "      <td>3</td>\n",
       "      <td>12</td>\n",
       "      <td>6</td>\n",
       "    </tr>\n",
       "    <tr>\n",
       "      <th>3</th>\n",
       "      <td>18817</td>\n",
       "      <td>5</td>\n",
       "      <td>444</td>\n",
       "      <td>2010</td>\n",
       "      <td>9</td>\n",
       "      <td>2</td>\n",
       "      <td>2.0</td>\n",
       "      <td>197000</td>\n",
       "      <td>4</td>\n",
       "      <td>2</td>\n",
       "      <td>2</td>\n",
       "      <td>2</td>\n",
       "      <td>0</td>\n",
       "    </tr>\n",
       "    <tr>\n",
       "      <th>4</th>\n",
       "      <td>21012</td>\n",
       "      <td>5</td>\n",
       "      <td>445</td>\n",
       "      <td>2009</td>\n",
       "      <td>2</td>\n",
       "      <td>5</td>\n",
       "      <td>3.0</td>\n",
       "      <td>198000</td>\n",
       "      <td>6</td>\n",
       "      <td>3</td>\n",
       "      <td>3</td>\n",
       "      <td>15</td>\n",
       "      <td>8</td>\n",
       "    </tr>\n",
       "  </tbody>\n",
       "</table>\n",
       "</div>"
      ],
      "text/plain": [
       "   Price  Manufacturer  Model  Prod. year  Category  Fuel type  Engine volume  \\\n",
       "0  25089             3    441        2016         5          5            3.0   \n",
       "1  10192             5    442        2018         9          5            2.0   \n",
       "2   8500             5    443        2008         4          5            1.6   \n",
       "3  18817             5    444        2010         9          2            2.0   \n",
       "4  21012             5    445        2009         2          5            3.0   \n",
       "\n",
       "   Mileage  Cylinders  Gear box type  Drive wheels  Color  Airbags  \n",
       "0    70782          6              1             1      2       12  \n",
       "1    38282          4              1             1     15       12  \n",
       "2    11111          2              1             3     12        6  \n",
       "3   197000          4              2             2      2        0  \n",
       "4   198000          6              3             3     15        8  "
      ]
     },
     "execution_count": 39,
     "metadata": {},
     "output_type": "execute_result"
    }
   ],
   "source": [
    "carPricing.head()"
   ]
  },
  {
   "cell_type": "code",
   "execution_count": 40,
   "id": "e9c29ae5",
   "metadata": {},
   "outputs": [],
   "source": [
    "sum_1 = theta[8]*(3)+theta[7]*(441)+theta[6]*(2016)+theta[5]*(5)+theta[4]*(5)+theta[3]*(3.0) + theta[2]*(70782) + theta[1]*(6) + theta[0]\n",
    "sum_2 = theta[8]*(5)+theta[7]*(442)+theta[6]*(2018)+theta[5]*(9)+theta[4]*(5)+theta[3]*(2) + theta[2]*(38282) + theta[1]*(4) + theta[0]\n",
    "sum_3 = theta[8]*(5)+theta[7]*(443)+theta[6]*(2008)+theta[5]*(4)+theta[4]*(5)+theta[3]*(1.6) + theta[2]*(11111) + theta[1]*(2) + theta[0]"
   ]
  },
  {
   "cell_type": "code",
   "execution_count": 41,
   "id": "b6eb590b",
   "metadata": {},
   "outputs": [
    {
     "name": "stdout",
     "output_type": "stream",
     "text": [
      "865.1788177789423\n",
      "612.9850119727083\n",
      "400.0444497305828\n"
     ]
    }
   ],
   "source": [
    "print(sum_1)\n",
    "print(sum_2)\n",
    "print(sum_3)"
   ]
  }
 ],
 "metadata": {
  "kernelspec": {
   "display_name": "Python 3 (ipykernel)",
   "language": "python",
   "name": "python3"
  },
  "language_info": {
   "codemirror_mode": {
    "name": "ipython",
    "version": 3
   },
   "file_extension": ".py",
   "mimetype": "text/x-python",
   "name": "python",
   "nbconvert_exporter": "python",
   "pygments_lexer": "ipython3",
   "version": "3.9.13"
  }
 },
 "nbformat": 4,
 "nbformat_minor": 5
}
